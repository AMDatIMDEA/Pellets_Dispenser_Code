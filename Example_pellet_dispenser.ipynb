{
 "cells": [
  {
   "cell_type": "markdown",
   "id": "79d7b161-fae3-4cf6-96e7-56cb79696ae0",
   "metadata": {},
   "source": [
    "# Example using pellet sorter\n",
    "\n",
    "This notebook contains an example of how to run the code for using the multimaterial dispenser. Most cells can be run without any modification if the dispenser has been built without design modifications. The lines that need modifications are marked like this:\n",
    "\n",
    "`###############################################################################`"
   ]
  },
  {
   "cell_type": "code",
   "execution_count": 1,
   "id": "cca1ff06-aaaf-4df3-8f25-39722086b046",
   "metadata": {},
   "outputs": [],
   "source": [
    "# Import Libraries\n",
    "import serial\n",
    "import numpy as np\n",
    "import time\n",
    "import serial.tools.list_ports\n",
    "import sys\n",
    "sys.path.append('src')\n",
    "from DispenserSetup import SetupDispenser, Compositions"
   ]
  },
  {
   "cell_type": "markdown",
   "id": "71bf0344-7b03-4943-9975-f0f3b8fc72a2",
   "metadata": {},
   "source": [
    "In this cell, we define the port name for the arduino and the balance. We do it by listing the connected ports and selecting the ones whose device serial is the corresponding to our device. You should find the serial of your devices and change it accordingly. You can do it by inspecting the devices detected by serial.tools.list_ports.comports(). In case of doubt, try disconnecting and connecting to see which ports are affected."
   ]
  },
  {
   "cell_type": "code",
   "execution_count": 2,
   "id": "16493b6c",
   "metadata": {},
   "outputs": [
    {
     "ename": "NameError",
     "evalue": "name 'arduino_port' is not defined",
     "output_type": "error",
     "traceback": [
      "\u001b[0;31m---------------------------------------------------------------------------\u001b[0m",
      "\u001b[0;31mNameError\u001b[0m                                 Traceback (most recent call last)",
      "Cell \u001b[0;32mIn[2], line 18\u001b[0m\n\u001b[1;32m     14\u001b[0m         balance_port \u001b[38;5;241m=\u001b[39m port\u001b[38;5;241m.\u001b[39mdevice\n\u001b[1;32m     16\u001b[0m \u001b[38;5;66;03m### Serial initialization\u001b[39;00m\n\u001b[1;32m     17\u001b[0m \u001b[38;5;66;03m## Arduino\u001b[39;00m\n\u001b[0;32m---> 18\u001b[0m arduino \u001b[38;5;241m=\u001b[39m serial\u001b[38;5;241m.\u001b[39mSerial(\u001b[43marduino_port\u001b[49m, \u001b[38;5;241m9600\u001b[39m)\n\u001b[1;32m     19\u001b[0m \u001b[38;5;66;03m## Balance\u001b[39;00m\n\u001b[1;32m     20\u001b[0m balance \u001b[38;5;241m=\u001b[39m serial\u001b[38;5;241m.\u001b[39mSerial(port\u001b[38;5;241m=\u001b[39mbalance_port, baudrate\u001b[38;5;241m=\u001b[39m\u001b[38;5;241m9600\u001b[39m, bytesize\u001b[38;5;241m=\u001b[39mserial\u001b[38;5;241m.\u001b[39mSEVENBITS,\n\u001b[1;32m     21\u001b[0m                        parity\u001b[38;5;241m=\u001b[39mserial\u001b[38;5;241m.\u001b[39mPARITY_EVEN, stopbits\u001b[38;5;241m=\u001b[39mserial\u001b[38;5;241m.\u001b[39mSTOPBITS_ONE)\n",
      "\u001b[0;31mNameError\u001b[0m: name 'arduino_port' is not defined"
     ]
    }
   ],
   "source": [
    "ports = serial.tools.list_ports.comports()\n",
    "\n",
    "###############################################################################\n",
    "\n",
    "arduino_serial = \"write_here_your_arduino_serial\"\n",
    "balance_serial = \"write_here_your_balance_serial\"\n",
    "\n",
    "###############################################################################\n",
    "\n",
    "for port in ports:\n",
    "    if port.serial_number == arduino_serial:\n",
    "        arduino_port = port.device\n",
    "    elif port.serial_number == balance_serial:\n",
    "        balance_port = port.device\n",
    "        \n",
    "### Serial initialization\n",
    "## Arduino\n",
    "arduino = serial.Serial(arduino_port, 9600)\n",
    "## Balance\n",
    "balance = serial.Serial(port=balance_port, baudrate=9600, bytesize=serial.SEVENBITS,\n",
    "                       parity=serial.PARITY_EVEN, stopbits=serial.STOPBITS_ONE)"
   ]
  },
  {
   "cell_type": "markdown",
   "id": "4fc6b21a-82ee-4cbf-9fa3-66b22a07eb24",
   "metadata": {},
   "source": [
    "The next step is to define the materials and their concentrations in each of the dispensers. For that we will use the `SetupDispenser` function from `/src/DispenserSetup`. It will require a `.csv` file detailing the compositions, that can be built following the example available in the help of the function:"
   ]
  },
  {
   "cell_type": "code",
   "execution_count": 3,
   "id": "29c9ba62-18e0-424f-83a2-e0069ee3054b",
   "metadata": {},
   "outputs": [
    {
     "name": "stdout",
     "output_type": "stream",
     "text": [
      "Help on function SetupDispenser in module DispenserSetup:\n",
      "\n",
      "SetupDispenser(dispenser_setup_file, Polymer)\n",
      "    Funtion to read the setup file and create structures to define what material each dispenser has.\n",
      "    \n",
      "    Inputs:\n",
      "    \n",
      "        dispenser_setup_file: full route of a .csv file with the different materials and how they are arranged. Example:\n",
      "            Dispenser, PLA, GNP, CLO, BN\n",
      "            1, 0.0, 0.0, 0.0, 0.0 # Empty\n",
      "            2, 0.0, 0.0, 0.0, 0.0 # Empty\n",
      "            3, 0.0, 0.0, 0.0, 0.0 # Empty\n",
      "            4, 1.0, 0.0, 0.0, 0.0 # Contains pure polymer\n",
      "            5, 0.9, 0.1, 0.0, 0.0 # Polymer with 10% GNP\n",
      "            6, 0.9, 0.0, 0.0, 0.1 # Polymer with 10% BN\n",
      "            7, 0.0, 0.0, 0.0, 0.0 # Empty\n",
      "            8, 0.0, 0.0, 0.0, 0.0 # Empty\n",
      "            \n",
      "            Notes:\n",
      "            - Only one polymer matrix allowed.\n",
      "            - All of the non-empty dispensers must contain the polymer matrix and at most one additive.\n",
      "            - The composition for each dispenser has to sum 1.\n",
      "            \n",
      "        Polymer: A string with the name of the polymer matrix, written exactly like in the .csv file. e.g.: \"PLA\"\n",
      "        \n",
      "    Outputs:\n",
      "        \n",
      "        dispensers_map : A dict with the active dispensers and their main component \n",
      "        \n",
      "        M: array with the fraction of polymer matrix in each dispenser\n",
      "        \n",
      "        A: array with the fraction of additive in each dispenser\n",
      "\n"
     ]
    }
   ],
   "source": [
    "help(SetupDispenser)"
   ]
  },
  {
   "cell_type": "code",
   "execution_count": 4,
   "id": "30e7cb05-7760-4666-8edb-633a83d93dc2",
   "metadata": {},
   "outputs": [
    {
     "name": "stdout",
     "output_type": "stream",
     "text": [
      "Dispenser 4: 100.0% of PLA, \n",
      "Dispenser 5: 90.0% of PLA, 10.0% of GNP, \n",
      "Dispenser 6: 90.0% of PLA, 10.0% of BN, \n"
     ]
    }
   ],
   "source": [
    "###############################################################################\n",
    "D, M, A = SetupDispenser(\"data/dispenser_setup.csv\", \"PLA\")\n",
    "###############################################################################"
   ]
  },
  {
   "cell_type": "markdown",
   "id": "a4358fef-1824-4b35-8876-825ad3271107",
   "metadata": {},
   "source": [
    "Next, we read the file that contains the compositions using the Compositions function. It's working is detailed in the documentation:"
   ]
  },
  {
   "cell_type": "code",
   "execution_count": 5,
   "id": "3edd9bf3-fb6d-475e-837c-4bfbbe8951f8",
   "metadata": {},
   "outputs": [
    {
     "name": "stdout",
     "output_type": "stream",
     "text": [
      "Help on function Compositions in module DispenserSetup:\n",
      "\n",
      "Compositions(compositions_file, dispensers_map, M, A, Polymer)\n",
      "    Funtion to read the compositions file and define what compositions to dispense.\n",
      "    \n",
      "    Inputs:\n",
      "    \n",
      "        compositions_file: full route of a .csv file with the ddesired compositions. Example:\n",
      "            Composition,PLA,GNP,CLO,BN\n",
      "            1,0.95,0.02,0.0,0.03\n",
      "            2,0.95,0.04,0.0,0.01\n",
      "            \n",
      "        dispensers_map, M, A: arrays returned from SetupDispenser function. \n",
      "        \n",
      "    Outputs:\n",
      "        \n",
      "        C: list of arrays with the quantities to dispense from each dispenser for every composition in the file.\n",
      "\n"
     ]
    }
   ],
   "source": [
    "help(Compositions)"
   ]
  },
  {
   "cell_type": "code",
   "execution_count": 18,
   "id": "1ed5134f-d69b-44c5-a8ec-41462a904bc4",
   "metadata": {},
   "outputs": [
    {
     "name": "stdout",
     "output_type": "stream",
     "text": [
      "Composition  0 : Concentrations add up.\n",
      "Composition  1 : Concentrations add up.\n",
      "[array([0. , 0. , 0. , 0.5, 0.2, 0.3, 0. , 0. ]), array([0. , 0. , 0. , 0.5, 0.4, 0.1, 0. , 0. ])]\n"
     ]
    }
   ],
   "source": [
    "###############################################################################\n",
    "compositions = Compositions(\"./data/compositions_to_dispense.csv\", D, M, A, \"PLA\")\n",
    "###############################################################################\n",
    "print(C)"
   ]
  },
  {
   "cell_type": "markdown",
   "id": "7df332e4-fe2f-40a2-8a7d-8d1795446240",
   "metadata": {},
   "source": [
    "For the rest of the notebook we will use only the first of the compositions available in the .csv file. in your application you can easily loop over all of them, just remember to change the cup in the balance between compositions."
   ]
  },
  {
   "cell_type": "code",
   "execution_count": 19,
   "id": "df7a26ad-d304-499d-84c1-f2532a4ae720",
   "metadata": {},
   "outputs": [],
   "source": [
    "C = compositions[0]"
   ]
  },
  {
   "cell_type": "markdown",
   "id": "b1a1eba4-852c-4dfc-adc1-f6ceacb15ff5",
   "metadata": {},
   "source": [
    "It is convenient now to establish a ratio between materials: in this way, instead of dispensing all the ammount of one material and then of another, we can alternate small quantities and thus have a better mixing. We do this by selecting the one with lower ammount and expressing the others as a ratio with respect to this one. In every step we will dispense 1 g of the smaller one and the corresponding grams of the rest."
   ]
  },
  {
   "cell_type": "code",
   "execution_count": 20,
   "id": "557823c4",
   "metadata": {},
   "outputs": [
    {
     "name": "stdout",
     "output_type": "stream",
     "text": [
      "The ratios for pellet dispensing will be:  [0.  0.  0.  2.5 1.  1.5 0.  0. ]\n"
     ]
    }
   ],
   "source": [
    "tol = 1e-3\n",
    "minC = np.min([c for c in C if c>tol])\n",
    "ratios = concentrations/minC \n",
    "print('The ratios for pellet dispensing will be: ', ratios)"
   ]
  },
  {
   "cell_type": "markdown",
   "id": "4c549bb1-bb36-4b24-9e26-059f0b8ebb99",
   "metadata": {},
   "source": [
    "The next cell stablish commands to tare, calibrate and measure weight from the balance. You may need to edit them if your balance uses a different protocol."
   ]
  },
  {
   "cell_type": "code",
   "execution_count": null,
   "id": "44503687",
   "metadata": {},
   "outputs": [],
   "source": [
    "###############################################################################\n",
    "def tare(balance):\n",
    "    # Set the balance measurement to 0.0 g\n",
    "    try:\n",
    "        balance.write(b'T\\r\\n')\n",
    "    except:\n",
    "        balance = serial.Serial(port=balance_port, baudrate=9600, bytesize=serial.SEVENBITS,\n",
    "                       parity=serial.PARITY_EVEN, stopbits=serial.STOPBITS_ONE)\n",
    "        balance.write(b'T\\r\\n')\n",
    "\n",
    "\n",
    "def calib(balance):\n",
    "    # Calibrate the balance automatically\n",
    "    try:\n",
    "        balance.write(b'C\\r\\n')\n",
    "    except:\n",
    "        balance = serial.Serial(port=balance_port, baudrate=9600, bytesize=serial.SEVENBITS,\n",
    "                       parity=serial.PARITY_EVEN, stopbits=serial.STOPBITS_ONE)\n",
    "        balance.write(b'C\\r\\n')\n",
    "\n",
    "def measure(balance):\n",
    "    try:\n",
    "        trash = balance.read_all()\n",
    "        balance.write(b'B\\r\\n')\n",
    "        reading = balance.readline()\n",
    "        weight = float(reading[:10])\n",
    "    except:\n",
    "        balance = serial.Serial(port=balance_port, baudrate=9600, bytesize=serial.SEVENBITS,\n",
    "                       parity=serial.PARITY_EVEN, stopbits=serial.STOPBITS_ONE)\n",
    "        trash = balance.read_all()\n",
    "        balance.write(b'B\\r\\n')\n",
    "        reading = balance.readline()\n",
    "        weight = float(reading[:10])\n",
    "    return weight\n",
    "###############################################################################"
   ]
  },
  {
   "cell_type": "markdown",
   "id": "4c2b0a46-d22c-451a-908a-cdef3478fac3",
   "metadata": {},
   "source": [
    "Select the total ammount of material that you want to dispense"
   ]
  },
  {
   "cell_type": "code",
   "execution_count": 28,
   "id": "43f2562a-08a5-470b-9d2d-6acd6b3a20d6",
   "metadata": {},
   "outputs": [],
   "source": [
    "###############################################################################\n",
    "mass_target = 100 # g\n",
    "###############################################################################"
   ]
  },
  {
   "cell_type": "markdown",
   "id": "12c6f6bf-305a-40c9-a270-21841fb2d2e1",
   "metadata": {},
   "source": [
    "The next cell runs the dispensers until the desired quantity is reached. As pointed above, it will alternate dispensers keeping the ratios between materials."
   ]
  },
  {
   "cell_type": "code",
   "execution_count": null,
   "id": "9eba12f0",
   "metadata": {},
   "outputs": [],
   "source": [
    "measureAll = True\n",
    "massAll = 0\n",
    "mass = 0\n",
    "masses = [[] for _ in range(8)]\n",
    "i = 0\n",
    "times = [[] for _ in range(8)]\n",
    "start = time.time()\n",
    "\n",
    "dispenser_switch = {0 : b'0', 1 : b'1', 2 : b'2', 3 : b'3', \n",
    "                    4 : b'4', 5 : b'5', 6 : b'6', 7 : b'7', 'stop' : b'8'}\n",
    "\n",
    "\n",
    "\n",
    "while measureAll == True:\n",
    "    for j in range(len(C)):\n",
    "        if C[j] > tol:\n",
    "            if masses[j][i] < ratios[j]*(i+1):\n",
    "                measureNow = True\n",
    "                tare(balance)\n",
    "                time.sleep(2)\n",
    "                arduino.write(dispenser_switch[j])\n",
    "                while measureNow == True:\n",
    "                    mass = measure(balance)\n",
    "                    if mass + masses[j][i] >= ratios[j]*(i+1):\n",
    "                        arduino.write(dispenser_switch['stop'])\n",
    "                        time.sleep(4)\n",
    "                        mass = measure(balance)\n",
    "                        measureNow = False\n",
    "                massAll = massAll + mass\n",
    "                masses[j].append(masses[j][i]+mass)\n",
    "                time.sleep(0.1)\n",
    "            elif masses[j][i] >= ratios[j]*(i+1):\n",
    "                arduino.write(dispenser_switch['stop'])\n",
    "            times[j].append(time.time()-start)\n",
    "            print(\"iteration \", i+1, \"| t = \", times[j][i+1], \"s | \", \"mass : \", masses[j][i+1])                  \n",
    "    if massAll > mass_target:\n",
    "        measureAll = False\n",
    "        arduino.write(dispenser_switch['stop'])\n",
    "    i = i + 1\n",
    "    \n",
    "arduino.write(dispenser_switch['stop'])"
   ]
  },
  {
   "cell_type": "code",
   "execution_count": null,
   "id": "14b0bf55",
   "metadata": {},
   "outputs": [],
   "source": [
    "import matplotlib.pyplot as plt\n",
    "\n",
    "for key in D:\n",
    "    plt.plot(time[D[key],:], mass[D[key],:],label=D)\n",
    "plt.title(\"Progression of Sample\")\n",
    "plt.xlabel(\"Time [s]\")\n",
    "plt.ylabel(\"Mass [g]\")\n",
    "plt.legend()\n",
    "plt.show()"
   ]
  },
  {
   "cell_type": "code",
   "execution_count": null,
   "id": "1f4d1e2a",
   "metadata": {},
   "outputs": [],
   "source": [
    "massAll"
   ]
  },
  {
   "cell_type": "code",
   "execution_count": null,
   "id": "400f9dc3",
   "metadata": {},
   "outputs": [],
   "source": [
    "error = X[1]abs((mass4[i] * 0.1)/(mass4[i] + mass1[i]))/(massAll)*100\n",
    "accuracy = 100 - error\n",
    "print('Accuracy:', '%.2f' % accuracy,'%')\n",
    "\n",
    "rate = massAll/finish4[i]\n",
    "rate = rate * 3600\n",
    "print('Mass flow rate: ', '%.2f' % rate,'g/h')"
   ]
  },
  {
   "cell_type": "code",
   "execution_count": 17,
   "id": "9f3c597f-b2a5-4eba-8092-fdc91bf0245b",
   "metadata": {},
   "outputs": [
    {
     "data": {
      "text/plain": [
       "'###############################################################################'"
      ]
     },
     "execution_count": 17,
     "metadata": {},
     "output_type": "execute_result"
    }
   ],
   "source": [
    "79*'#'"
   ]
  },
  {
   "cell_type": "code",
   "execution_count": 23,
   "id": "0a4608e2-9225-4916-8581-ccb5264d8b41",
   "metadata": {},
   "outputs": [
    {
     "name": "stdout",
     "output_type": "stream",
     "text": [
      "PLA\n",
      "GNP\n",
      "BN\n"
     ]
    }
   ],
   "source": [
    "for key in D:\n",
    "    print(key)"
   ]
  },
  {
   "cell_type": "code",
   "execution_count": 30,
   "id": "5d62e285-3ea8-496b-b7a1-4f469d9ca8b5",
   "metadata": {},
   "outputs": [
    {
     "data": {
      "text/plain": [
       "array([ 0.,  0.,  0., 50., 20., 30.,  0.,  0.])"
      ]
     },
     "execution_count": 30,
     "metadata": {},
     "output_type": "execute_result"
    }
   ],
   "source": [
    "np.sum(abs(masses[:,-1]-C*mass_target)/np.sum(C*mass_target)"
   ]
  },
  {
   "cell_type": "code",
   "execution_count": null,
   "id": "3dcc68fb-8bd4-4914-9a01-8abcef7d7712",
   "metadata": {},
   "outputs": [],
   "source": []
  }
 ],
 "metadata": {
  "kernelspec": {
   "display_name": "Python 3 (ipykernel)",
   "language": "python",
   "name": "python3"
  },
  "language_info": {
   "codemirror_mode": {
    "name": "ipython",
    "version": 3
   },
   "file_extension": ".py",
   "mimetype": "text/x-python",
   "name": "python",
   "nbconvert_exporter": "python",
   "pygments_lexer": "ipython3",
   "version": "3.8.16"
  }
 },
 "nbformat": 4,
 "nbformat_minor": 5
}
