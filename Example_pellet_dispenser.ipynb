{
 "cells": [
  {
   "cell_type": "markdown",
   "id": "79d7b161-fae3-4cf6-96e7-56cb79696ae0",
   "metadata": {},
   "source": [
    "# Example using pellet sorter\n",
    "\n",
    "This notebook contains an example of how to run the code for using the multimaterial dispenser. Most cells can be run without any modification if the dispenser has been built without design modifications. The lines that need modifications are marked like this:\n",
    "\n",
    "`###############################################################################`"
   ]
  },
  {
   "cell_type": "code",
   "execution_count": 1,
   "id": "cca1ff06-aaaf-4df3-8f25-39722086b046",
   "metadata": {
    "tags": []
   },
   "outputs": [],
   "source": [
    "# Import Libraries\n",
    "import serial\n",
    "import numpy as np\n",
    "import time\n",
    "import serial.tools.list_ports\n",
    "import os\n",
    "import sys\n",
    "sys.path.append('src')\n",
    "from DispenserSetup import SetupDispenser, Compositions"
   ]
  },
  {
   "cell_type": "markdown",
   "id": "71bf0344-7b03-4943-9975-f0f3b8fc72a2",
   "metadata": {},
   "source": [
    "In this cell, we define the port name for the arduino and the balance. We do it by listing the connected ports and selecting the ones whose device serial is the corresponding to our device. You should find the serial of your devices and change it accordingly. You can do it by inspecting the devices detected by serial.tools.list_ports.comports(). In case of doubt, try disconnecting and connecting to see which ports are affected."
   ]
  },
  {
   "cell_type": "code",
   "execution_count": 2,
   "id": "16493b6c",
   "metadata": {
    "tags": []
   },
   "outputs": [],
   "source": [
    "ports = serial.tools.list_ports.comports()\n",
    "\n",
    "###############################################################################\n",
    "\n",
    "arduino_serial = '85036313530351F0B141' #\"write_here_your_arduino_serial\"\n",
    "balance_serial = 'FT2OHLM4'#\"write_here_your_balance_serial\"\n",
    "\n",
    "###############################################################################\n",
    "\n",
    "for port in ports:\n",
    "    if port.serial_number == arduino_serial:\n",
    "        arduino_port = port.device\n",
    "    elif port.serial_number == balance_serial:\n",
    "        balance_port = port.device\n",
    "        \n",
    "### Serial initialization\n",
    "## Arduino\n",
    "arduino = serial.Serial(arduino_port, 9600)\n",
    "## Balance\n",
    "balance = serial.Serial(port=balance_port, baudrate=9600, bytesize=serial.SEVENBITS,\n",
    "                       parity=serial.PARITY_EVEN, stopbits=serial.STOPBITS_ONE)"
   ]
  },
  {
   "cell_type": "markdown",
   "id": "5bc95af9-0551-45cb-8478-d36582cf03a2",
   "metadata": {},
   "source": [
    "In the next cell, we use the Arduino Command Line Interface (arduino-cli) to compile and upload the arduino script. If you prefer to do it using the Graphical User Interface, skip this cell. For using it, update the location of your arduino-cli"
   ]
  },
  {
   "cell_type": "code",
   "execution_count": 3,
   "id": "9f9638d5-a98b-4d17-bd4a-0121fc778455",
   "metadata": {
    "tags": []
   },
   "outputs": [
    {
     "name": "stdout",
     "output_type": "stream",
     "text": [
      "Sketch uses 9474 bytes (3%) of program storage space. Maximum is 253952 bytes.\n",
      "Global variables use 788 bytes (9%) of dynamic memory, leaving 7404 bytes for local variables. Maximum is 8192 bytes.\n",
      "\n",
      "\u001b[92mUsed library\u001b[0m \u001b[92mVersion\u001b[0m \u001b[90mPath\u001b[0m                                       \n",
      "\u001b[93mAccelStepper\u001b[0m 1.64    \u001b[90m/home/miguel/Arduino/libraries/AccelStepper\u001b[0m\n",
      "\n",
      "\u001b[92mUsed platform\u001b[0m \u001b[92mVersion\u001b[0m \u001b[90mPath\u001b[0m                                                       \n",
      "\u001b[93marduino:avr\u001b[0m   1.8.6   \u001b[90m/home/miguel/.arduino15/packages/arduino/hardware/avr/1.8.6\u001b[0m\n"
     ]
    },
    {
     "data": {
      "text/plain": [
       "0"
      ]
     },
     "execution_count": 3,
     "metadata": {},
     "output_type": "execute_result"
    }
   ],
   "source": [
    "###############################################################################################################\n",
    "\n",
    "os.system(\"/home/miguel/Downloads/arduino-cli_0.33.0_Linux_64bit/arduino-cli compile --fqbn arduino:avr:mega 8noIRnew_NOshaketimer_new/8noIRnew_NOshaketimer_new.ino\")\n",
    "os.system(\"/home/miguel/Downloads/arduino-cli_0.33.0_Linux_64bit/arduino-cli upload -p \"+arduino_port+\" --fqbn arduino:avr:mega 8noIRnew_NOshaketimer_new/8noIRnew_NOshaketimer_new.ino\")\n",
    "\n",
    "###############################################################################################################"
   ]
  },
  {
   "cell_type": "markdown",
   "id": "4fc6b21a-82ee-4cbf-9fa3-66b22a07eb24",
   "metadata": {},
   "source": [
    "The next step is to define the materials and their concentrations in each of the dispensers. For that we will use the `SetupDispenser` function from `/src/DispenserSetup`. It will require a `.csv` file detailing the compositions, that can be built following the example available in the help of the function:"
   ]
  },
  {
   "cell_type": "code",
   "execution_count": 4,
   "id": "29c9ba62-18e0-424f-83a2-e0069ee3054b",
   "metadata": {
    "tags": []
   },
   "outputs": [
    {
     "name": "stdout",
     "output_type": "stream",
     "text": [
      "Help on function SetupDispenser in module DispenserSetup:\n",
      "\n",
      "SetupDispenser(dispenser_setup_file, Polymer)\n",
      "    Funtion to read the setup file and create structures to define what material each dispenser has.\n",
      "    \n",
      "    Inputs:\n",
      "    \n",
      "        dispenser_setup_file: full route of a .csv file with the different materials and how they are arranged. Example:\n",
      "            Dispenser, PLA, GNP, CLO, BN\n",
      "            1, 0.0, 0.0, 0.0, 0.0 # Empty\n",
      "            2, 0.0, 0.0, 0.0, 0.0 # Empty\n",
      "            3, 0.0, 0.0, 0.0, 0.0 # Empty\n",
      "            4, 1.0, 0.0, 0.0, 0.0 # Contains pure polymer\n",
      "            5, 0.9, 0.1, 0.0, 0.0 # Polymer with 10% GNP\n",
      "            6, 0.9, 0.0, 0.0, 0.1 # Polymer with 10% BN\n",
      "            7, 0.0, 0.0, 0.0, 0.0 # Empty\n",
      "            8, 0.0, 0.0, 0.0, 0.0 # Empty\n",
      "            \n",
      "            Notes:\n",
      "            - Only one polymer matrix allowed.\n",
      "            - All of the non-empty dispensers must contain the polymer matrix and at most one additive.\n",
      "            - The composition for each dispenser has to sum 1.\n",
      "            \n",
      "        Polymer: A string with the name of the polymer matrix, written exactly like in the .csv file. e.g.: \"PLA\"\n",
      "        \n",
      "    Outputs:\n",
      "        \n",
      "        dispensers_map : A dict with the active dispensers and their main component \n",
      "        \n",
      "        M: array with the fraction of polymer matrix in each dispenser\n",
      "        \n",
      "        A: array with the fraction of additive in each dispenser\n",
      "\n"
     ]
    }
   ],
   "source": [
    "help(SetupDispenser)"
   ]
  },
  {
   "cell_type": "code",
   "execution_count": 5,
   "id": "30e7cb05-7760-4666-8edb-633a83d93dc2",
   "metadata": {
    "tags": []
   },
   "outputs": [
    {
     "name": "stdout",
     "output_type": "stream",
     "text": [
      "Dispenser 1: 100.0% of PLA, \n",
      "Dispenser 2: 90.0% of PLA, 10.0% of GNP, \n",
      "Dispenser 3: 90.0% of PLA, 10.0% of CLO, \n"
     ]
    }
   ],
   "source": [
    "###############################################################################\n",
    "D, M, A = SetupDispenser(\"data/dispenser_setup.csv\", \"PLA\")\n",
    "###############################################################################"
   ]
  },
  {
   "cell_type": "markdown",
   "id": "a4358fef-1824-4b35-8876-825ad3271107",
   "metadata": {},
   "source": [
    "Next, we read the file that contains the compositions using the Compositions function. It's working is detailed in the documentation:"
   ]
  },
  {
   "cell_type": "code",
   "execution_count": 6,
   "id": "3edd9bf3-fb6d-475e-837c-4bfbbe8951f8",
   "metadata": {
    "tags": []
   },
   "outputs": [
    {
     "name": "stdout",
     "output_type": "stream",
     "text": [
      "Help on function Compositions in module DispenserSetup:\n",
      "\n",
      "Compositions(compositions_file, dispensers_map, M, A, Polymer)\n",
      "    Funtion to read the compositions file and define what compositions to dispense.\n",
      "    \n",
      "    Inputs:\n",
      "    \n",
      "        compositions_file: full route of a .csv file with the ddesired compositions. Example:\n",
      "            Composition,PLA,GNP,CLO,BN\n",
      "            1,0.95,0.02,0.0,0.03\n",
      "            2,0.95,0.04,0.0,0.01\n",
      "            \n",
      "        dispensers_map, M, A: arrays returned from SetupDispenser function. \n",
      "        \n",
      "    Outputs:\n",
      "        \n",
      "        C: list of arrays with the quantities to dispense from each dispenser for every composition in the file.\n",
      "\n"
     ]
    }
   ],
   "source": [
    "help(Compositions)"
   ]
  },
  {
   "cell_type": "code",
   "execution_count": 7,
   "id": "1ed5134f-d69b-44c5-a8ec-41462a904bc4",
   "metadata": {
    "tags": []
   },
   "outputs": [
    {
     "name": "stdout",
     "output_type": "stream",
     "text": [
      "Composition  0 : Concentrations add up.\n",
      "Composition  1 : Concentrations add up.\n",
      "[array([0.5, 0.2, 0.3, 0. , 0. , 0. , 0. , 0. ]), array([0.5, 0.4, 0.1, 0. , 0. , 0. , 0. , 0. ])]\n"
     ]
    }
   ],
   "source": [
    "###############################################################################\n",
    "compositions = Compositions(\"./data/compositions_to_dispense.csv\", D, M, A, \"PLA\")\n",
    "###############################################################################\n",
    "print(compositions)"
   ]
  },
  {
   "cell_type": "markdown",
   "id": "7df332e4-fe2f-40a2-8a7d-8d1795446240",
   "metadata": {},
   "source": [
    "For the rest of the notebook we will use only the first of the compositions available in the .csv file. in your application you can easily loop over all of them, just remember to change the cup in the balance between compositions."
   ]
  },
  {
   "cell_type": "code",
   "execution_count": 8,
   "id": "df7a26ad-d304-499d-84c1-f2532a4ae720",
   "metadata": {
    "tags": []
   },
   "outputs": [],
   "source": [
    "C = compositions[0]"
   ]
  },
  {
   "cell_type": "markdown",
   "id": "b1a1eba4-852c-4dfc-adc1-f6ceacb15ff5",
   "metadata": {},
   "source": [
    "It is convenient now to establish a ratio between materials: in this way, instead of dispensing all the ammount of one material and then of another, we can alternate small quantities and thus have a better mixing. We do this by selecting the one with lower ammount and expressing the others as a ratio with respect to this one. In every step we will dispense 1 g of the smaller one and the corresponding grams of the rest."
   ]
  },
  {
   "cell_type": "code",
   "execution_count": 9,
   "id": "557823c4",
   "metadata": {
    "tags": []
   },
   "outputs": [
    {
     "name": "stdout",
     "output_type": "stream",
     "text": [
      "The ratios for pellet dispensing will be:  [2.5 1.  1.5 0.  0.  0.  0.  0. ]\n"
     ]
    }
   ],
   "source": [
    "tol = 1e-3\n",
    "minC = np.min([c for c in C if c>tol])\n",
    "ratios = C/minC \n",
    "print('The ratios for pellet dispensing will be: ', ratios)"
   ]
  },
  {
   "cell_type": "markdown",
   "id": "4c549bb1-bb36-4b24-9e26-059f0b8ebb99",
   "metadata": {},
   "source": [
    "The next cell stablish commands to tare, calibrate and measure weight from the balance. You may need to edit them if your balance uses a different protocol."
   ]
  },
  {
   "cell_type": "code",
   "execution_count": 10,
   "id": "44503687",
   "metadata": {
    "tags": []
   },
   "outputs": [],
   "source": [
    "###############################################################################\n",
    "def tare(balance):\n",
    "    # Set the balance measurement to 0.0 g\n",
    "    try:\n",
    "        balance.write(b'T\\r\\n')\n",
    "    except:\n",
    "        balance = serial.Serial(port=balance_port, baudrate=9600, bytesize=serial.SEVENBITS,\n",
    "                       parity=serial.PARITY_EVEN, stopbits=serial.STOPBITS_ONE)\n",
    "        balance.write(b'T\\r\\n')\n",
    "\n",
    "\n",
    "def calib(balance):\n",
    "    # Calibrate the balance automatically\n",
    "    try:\n",
    "        balance.write(b'C\\r\\n')\n",
    "    except:\n",
    "        balance = serial.Serial(port=balance_port, baudrate=9600, bytesize=serial.SEVENBITS,\n",
    "                       parity=serial.PARITY_EVEN, stopbits=serial.STOPBITS_ONE)\n",
    "        balance.write(b'C\\r\\n')\n",
    "\n",
    "def measure(balance):\n",
    "    try:\n",
    "        trash = balance.read_all()\n",
    "        balance.write(b'B\\r\\n')\n",
    "        reading = balance.readline()\n",
    "        weight = float(reading[:10])\n",
    "    except:\n",
    "        balance = serial.Serial(port=balance_port, baudrate=9600, bytesize=serial.SEVENBITS,\n",
    "                       parity=serial.PARITY_EVEN, stopbits=serial.STOPBITS_ONE)\n",
    "        trash = balance.read_all()\n",
    "        balance.write(b'B\\r\\n')\n",
    "        reading = balance.readline()\n",
    "        weight = float(reading[:10])\n",
    "    return weight\n",
    "###############################################################################"
   ]
  },
  {
   "cell_type": "markdown",
   "id": "4c2b0a46-d22c-451a-908a-cdef3478fac3",
   "metadata": {},
   "source": [
    "Select the total ammount of material that you want to dispense"
   ]
  },
  {
   "cell_type": "code",
   "execution_count": 11,
   "id": "43f2562a-08a5-470b-9d2d-6acd6b3a20d6",
   "metadata": {
    "tags": []
   },
   "outputs": [],
   "source": [
    "###############################################################################\n",
    "mass_target = 100 # g\n",
    "###############################################################################"
   ]
  },
  {
   "cell_type": "markdown",
   "id": "b34b4256-b20b-422e-9875-4eb3a6e698fc",
   "metadata": {},
   "source": [
    "Now, we define some variables and arrays that we will need in the dispensing loop"
   ]
  },
  {
   "cell_type": "code",
   "execution_count": 12,
   "id": "9eba12f0",
   "metadata": {
    "tags": []
   },
   "outputs": [],
   "source": [
    "measureAll = True\n",
    "massAll = 0\n",
    "mass = 0\n",
    "masses = [[0] for _ in range(8)]\n",
    "i = 0\n",
    "times = [[0] for _ in range(8)]\n",
    "\n",
    "\n",
    "dispenser_switch = {0 : b'0', 1 : b'1', 2 : b'2', 3 : b'3', \n",
    "                    4 : b'4', 5 : b'5', 6 : b'6', 7 : b'7', 'stop' : b'8'}"
   ]
  },
  {
   "cell_type": "markdown",
   "id": "70a9feed-f3f8-4f0b-8c12-650ce481fed6",
   "metadata": {},
   "source": [
    "The next cell runs the dispensers until the desired quantity is reached. As pointed above, it will alternate dispensers keeping the ratios between materials."
   ]
  },
  {
   "cell_type": "code",
   "execution_count": 13,
   "id": "691d8954-3d43-4041-b777-9d8363940f38",
   "metadata": {
    "tags": []
   },
   "outputs": [
    {
     "name": "stdout",
     "output_type": "stream",
     "text": [
      "Dispenser  0 | iteration:  1 | t =  9.676822900772095 s |  mass :  3.305\n",
      "Dispenser  1 | iteration:  1 | t =  28.880063772201538 s |  mass :  1.162\n",
      "Dispenser  2 | iteration:  1 | t =  44.27772641181946 s |  mass :  1.677\n",
      "Dispenser  0 | iteration:  2 | t =  53.08757925033569 s |  mass :  5.691000000000001\n",
      "Dispenser  1 | iteration:  2 | t =  71.8909957408905 s |  mass :  2.5069999999999997\n",
      "Dispenser  2 | iteration:  2 | t =  89.87902855873108 s |  mass :  3.3680000000000003\n",
      "Dispenser  0 | iteration:  3 | t =  99.28093004226685 s |  mass :  8.417000000000002\n",
      "Dispenser  1 | iteration:  3 | t =  109.88190364837646 s |  mass :  3.191\n",
      "Dispenser  2 | iteration:  3 | t =  124.68800926208496 s |  mass :  4.509\n",
      "Dispenser  0 | iteration:  4 | t =  134.48958349227905 s |  mass :  11.841000000000001\n",
      "Dispenser  1 | iteration:  4 | t =  140.88542866706848 s |  mass :  4.345\n",
      "Dispenser  2 | iteration:  4 | t =  159.49651837348938 s |  mass :  6.265000000000001\n",
      "Dispenser  0 | iteration:  5 | t =  167.49125409126282 s |  mass :  14.178\n",
      "Dispenser  1 | iteration:  5 | t =  176.89315366744995 s |  mass :  5.1419999999999995\n",
      "Dispenser  2 | iteration:  5 | t =  193.29825687408447 s |  mass :  7.968000000000001\n",
      "Dispenser  0 | iteration:  6 | t =  201.50071048736572 s |  mass :  16.227\n",
      "Dispenser  1 | iteration:  6 | t =  216.2909688949585 s |  mass :  6.398\n",
      "Dispenser  2 | iteration:  6 | t =  229.69003629684448 s |  mass :  9.083\n",
      "Dispenser  0 | iteration:  7 | t =  238.69204998016357 s |  mass :  18.442\n",
      "Dispenser  1 | iteration:  7 | t =  248.8932008743286 s |  mass :  7.476\n",
      "Dispenser  2 | iteration:  7 | t =  265.2980444431305 s |  mass :  10.882\n",
      "Dispenser  0 | iteration:  8 | t =  273.6923813819885 s |  mass :  20.844\n",
      "Dispenser  1 | iteration:  8 | t =  284.50125098228455 s |  mass :  8.247\n",
      "Dispenser  2 | iteration:  8 | t =  299.2914562225342 s |  mass :  12.139\n",
      "Dispenser  0 | iteration:  9 | t =  307.7015950679779 s |  mass :  23.703000000000003\n",
      "Dispenser  1 | iteration:  9 | t =  321.50040316581726 s |  mass :  9.379\n",
      "Dispenser  2 | iteration:  9 | t =  337.90537428855896 s |  mass :  13.641\n",
      "Dispenser  0 | iteration:  10 | t =  345.7082369327545 s |  mass :  25.754000000000005\n",
      "Dispenser  1 | iteration:  10 | t =  356.30921363830566 s |  mass :  10.157\n",
      "Dispenser  2 | iteration:  10 | t =  371.30724263191223 s |  mass :  15.252\n",
      "Dispenser  0 | iteration:  11 | t =  380.10138869285583 s |  mass :  28.725000000000005\n",
      "Dispenser  1 | iteration:  11 | t =  393.1005952358246 s |  mass :  11.16\n",
      "Dispenser  2 | iteration:  11 | t =  406.49973225593567 s |  mass :  16.674\n",
      "Dispenser  0 | iteration:  12 | t =  414.90999364852905 s |  mass :  30.703000000000007\n",
      "Dispenser  1 | iteration:  12 | t =  428.3090703487396 s |  mass :  12.584\n",
      "Dispenser  2 | iteration:  12 | t =  447.1126582622528 s |  mass :  18.442999999999998\n",
      "Dispenser  0 | iteration:  13 | t =  456.306547164917 s |  mass :  33.907000000000004\n",
      "Dispenser  1 | iteration:  13 | t =  465.91613721847534 s |  mass :  13.026\n",
      "Dispenser  2 | iteration:  13 | t =  479.315482378006 s |  mass :  19.772999999999996\n",
      "Dispenser  0 | iteration:  14 | t =  489.1169500350952 s |  mass :  36.367000000000004\n",
      "Dispenser  1 | iteration:  14 | t =  504.30709290504456 s |  mass :  14.334999999999999\n",
      "Dispenser  2 | iteration:  14 | t =  518.1058945655823 s |  mass :  21.365999999999996\n",
      "Dispenser  0 | iteration:  15 | t =  526.3081252574921 s |  mass :  39.042\n",
      "Dispenser  1 | iteration:  15 | t =  537.308746099472 s |  mass :  15.379999999999999\n",
      "Dispenser  2 | iteration:  15 | t =  552.9142100811005 s |  mass :  22.864999999999995\n",
      "Dispenser  0 | iteration:  16 | t =  561.116691827774 s |  mass :  41.167\n",
      "Dispenser  1 | iteration:  16 | t =  571.9096124172211 s |  mass :  16.154\n",
      "Dispenser  2 | iteration:  16 | t =  589.7215337753296 s |  mass :  24.312999999999995\n",
      "Dispenser  0 | iteration:  17 | t =  598.1158716678619 s |  mass :  43.839\n",
      "Dispenser  1 | iteration:  17 | t =  613.321439743042 s |  mass :  17.636\n",
      "Dispenser  2 | iteration:  17 | t =  634.1233792304993 s |  mass :  25.600999999999996\n",
      "Dispenser  0 | iteration:  18 | t =  642.5177252292633 s |  mass :  45.991\n",
      "Dispenser  1 | iteration:  18 | t =  650.7204027175903 s |  mass :  18.223\n",
      "Dispenser  2 | iteration:  18 | t =  714.5178272724152 s |  mass :  27.141999999999996\n",
      "Dispenser  0 | iteration:  19 | t =  723.120038986206 s |  mass :  48.297\n",
      "Dispenser  1 | iteration:  19 | t =  735.1278479099274 s |  mass :  19.314999999999998\n",
      "Dispenser  2 | iteration:  19 | t =  752.7319221496582 s |  mass :  28.632999999999996\n",
      "Dispenser  0 | iteration:  20 | t =  761.126410484314 s |  mass :  51.098\n",
      "Dispenser  1 | iteration:  20 | t =  773.1344275474548 s |  mass :  20.125999999999998\n",
      "Dispenser  2 | iteration:  20 | t =  794.9279732704163 s |  mass :  30.155999999999995\n"
     ]
    },
    {
     "data": {
      "text/plain": [
       "1"
      ]
     },
     "execution_count": 13,
     "metadata": {},
     "output_type": "execute_result"
    }
   ],
   "source": [
    "start = time.time()\n",
    "\n",
    "while measureAll == True:\n",
    "    for j in range(len(C)):\n",
    "        if C[j] > tol:\n",
    "            if masses[j][i] < ratios[j]*(i+1):\n",
    "                measureNow = True\n",
    "                tare(balance)\n",
    "                time.sleep(2)\n",
    "                arduino.write(dispenser_switch[j])\n",
    "                while measureNow == True:\n",
    "                    mass = measure(balance)\n",
    "                    if mass + masses[j][i] >= ratios[j]*(i+1):\n",
    "                        arduino.write(dispenser_switch['stop'])\n",
    "                        time.sleep(4)\n",
    "                        mass = measure(balance)\n",
    "                        measureNow = False\n",
    "                massAll = massAll + mass\n",
    "                masses[j].append(masses[j][i]+mass)\n",
    "                times[j].append(time.time()-start)\n",
    "                time.sleep(0.1)\n",
    "            elif masses[j][i] >= ratios[j]*(i+1):\n",
    "                arduino.write(dispenser_switch['stop'])\n",
    "            print(\"Dispenser \", j, \"| iteration: \", i+1, \"| t = \", times[j][i+1], \"s | \", \"mass : \", masses[j][i+1])                  \n",
    "    if massAll > mass_target:\n",
    "        measureAll = False\n",
    "        arduino.write(dispenser_switch['stop'])\n",
    "    i = i + 1\n",
    "    \n",
    "arduino.write(dispenser_switch['stop'])"
   ]
  },
  {
   "cell_type": "markdown",
   "id": "51095125-f366-4776-ac4d-eb70c92e662c",
   "metadata": {},
   "source": [
    "We can now plot the dispensing progress, comparing the amount that was actually dispensed and the one asked by the code"
   ]
  },
  {
   "cell_type": "code",
   "execution_count": 36,
   "id": "14b0bf55",
   "metadata": {},
   "outputs": [
    {
     "data": {
      "image/png": "[encoded data removed]",
      "text/plain": [
       "<Figure size 640x480 with 1 Axes>"
      ]
     },
     "metadata": {},
     "output_type": "display_data"
    }
   ],
   "source": [
    "import matplotlib.pyplot as plt\n",
    "\n",
    "colors = [\"C0\", \"C1\", \"C2\", \"C3\", \"C4\", \"C5\", \"C6\", \"C7\"] \n",
    "\n",
    "for key in D.keys():\n",
    "    plt.plot(times[D[key]-1], masses[D[key]-1],label=key, c=colors[D[key]-1])\n",
    "    plt.plot(times[D[key]-1], np.arange(len(times[D[key]-1]))*ratios[D[key]-1], '--',c=colors[D[key]-1])\n",
    "plt.plot(0,0,'--',c = 'gray',label = \"Expected amounts\")\n",
    "plt.title(\"Progression of Sample\")\n",
    "plt.xlabel(\"Time [s]\")\n",
    "plt.ylabel(\"Mass [g]\")\n",
    "plt.legend()\n",
    "plt.show()"
   ]
  },
  {
   "cell_type": "markdown",
   "id": "5b5d94de-a837-4fb7-9823-6c8c91a3a465",
   "metadata": {},
   "source": [
    "Finally, we present a measure for accuracy consistent of the total error commited divided by the total amount dispensed:"
   ]
  },
  {
   "cell_type": "code",
   "execution_count": 41,
   "id": "5d62e285-3ea8-496b-b7a1-4f469d9ca8b5",
   "metadata": {},
   "outputs": [
    {
     "name": "stdout",
     "output_type": "stream",
     "text": [
      "Accuracy:  98.63878477017163 %\n"
     ]
    }
   ],
   "source": [
    "final_masses = [mass[-1] for mass in masses[:]]\n",
    "accuracy = (1-np.sum(abs(final_masses-C*mass_target))/np.sum(final_masses))*100\n",
    "print(\"Accuracy: \", accuracy, \"%\")"
   ]
  },
  {
   "cell_type": "code",
   "execution_count": null,
   "id": "fd27b3af-5ba2-4282-99b7-04a4cb8f8fc0",
   "metadata": {},
   "outputs": [],
   "source": []
  }
 ],
 "metadata": {
  "kernelspec": {
   "display_name": "Python 3 (ipykernel)",
   "language": "python",
   "name": "python3"
  },
  "language_info": {
   "codemirror_mode": {
    "name": "ipython",
    "version": 3
   },
   "file_extension": ".py",
   "mimetype": "text/x-python",
   "name": "python",
   "nbconvert_exporter": "python",
   "pygments_lexer": "ipython3",
   "version": "3.10.12"
  }
 },
 "nbformat": 4,
 "nbformat_minor": 5
}
