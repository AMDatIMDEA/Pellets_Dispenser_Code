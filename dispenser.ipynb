{
 "cells": [
  {
   "cell_type": "code",
   "execution_count": 1,
   "id": "71a9b38c",
   "metadata": {},
   "outputs": [],
   "source": [
    "# Import Libraries\n",
    "import serial\n",
    "import numpy as np\n",
    "import time"
   ]
  },
  {
   "cell_type": "code",
   "execution_count": 2,
   "id": "ede5bc23",
   "metadata": {},
   "outputs": [],
   "source": [
    "import serial.tools.list_ports"
   ]
  },
  {
   "cell_type": "code",
   "execution_count": 3,
   "id": "16493b6c",
   "metadata": {},
   "outputs": [],
   "source": [
    "ports = serial.tools.list_ports.comports()\n",
    "\n",
    "for port in ports:\n",
    "    if port.serial_number == \"85036313530351F0B141\":\n",
    "        arduino_port = port.device\n",
    "    elif port.serial_number == \"FT2OHLM4A\":\n",
    "        balance_port = port.device"
   ]
  },
  {
   "cell_type": "code",
   "execution_count": 4,
   "id": "f55ba1f3",
   "metadata": {},
   "outputs": [],
   "source": [
    "M = [None] * 8\n",
    "A = [None] * 8\n",
    "C = [None] * 8\n",
    "X = [None] * 7\n",
    "P = [None] * 1\n",
    "m = [None] * 1"
   ]
  },
  {
   "cell_type": "code",
   "execution_count": 5,
   "id": "85e0a54e",
   "metadata": {},
   "outputs": [],
   "source": [
    "def setupDispenser(dispenser,matrixComp,additiveComp):\n",
    "    M[dispenser] = matrixComp\n",
    "    A[dispenser] = additiveComp\n",
    "    \n",
    "def userInput(mass,matrixComp,A1Comp,A2Comp,A3Comp,A4Comp,A5Comp,A6Comp,A7Comp):\n",
    "    m[0] = mass\n",
    "    P[0] = matrixComp\n",
    "    X[0] = A1Comp\n",
    "    X[1] = A2Comp\n",
    "    X[2] = A3Comp\n",
    "    X[3] = A4Comp\n",
    "    X[4] = A5Comp\n",
    "    X[5] = A6Comp\n",
    "    X[6] = A7Comp"
   ]
  },
  {
   "cell_type": "code",
   "execution_count": 6,
   "id": "9fa73d04",
   "metadata": {},
   "outputs": [],
   "source": [
    "# Matrix - Additive (M-A) relation in each dispenser\n",
    "setupDispenser(0,0.9,0.1)\n",
    "setupDispenser(1,0.9,0.1)\n",
    "setupDispenser(2,0.9,0.1)\n",
    "setupDispenser(3,0.9,0.1)\n",
    "setupDispenser(4,0.9,0.1)\n",
    "setupDispenser(5,0.9,0.1)\n",
    "setupDispenser(6,0.9,0.1)\n",
    "setupDispenser(7,0.9,0.1)"
   ]
  },
  {
   "cell_type": "code",
   "execution_count": 7,
   "id": "8fc1f504",
   "metadata": {},
   "outputs": [],
   "source": [
    "# USER INPUT: Desired proportion of PLA (P) and additives (X, Y, Z)\n",
    "userInput(100,0.975,0,0.007,0.018,0,0,0,0)"
   ]
  },
  {
   "cell_type": "code",
   "execution_count": 8,
   "id": "ca20de4a",
   "metadata": {},
   "outputs": [],
   "source": [
    "# Compute pellet proportions for desired output\n",
    "# Σ Ci*(Mi*P + Ai*X)\n",
    "for i in range(1,8):\n",
    "    C[i] = X[i-1]/A[i]"
   ]
  },
  {
   "cell_type": "code",
   "execution_count": 9,
   "id": "b91a0f36",
   "metadata": {},
   "outputs": [],
   "source": [
    "# Fill remaining with plastic\n",
    "C[0] = P[0] - (C[1]*M[1] + C[2]*M[2] + C[3]*M[3] + C[4]*M[4] + C[5]*M[5] + C[6]*M[6] + C[7]*M[7])"
   ]
  },
  {
   "cell_type": "code",
   "execution_count": 10,
   "id": "6a2971f7",
   "metadata": {},
   "outputs": [
    {
     "name": "stdout",
     "output_type": "stream",
     "text": [
      "Concentrations add up.\n",
      "**************************************\n",
      "C1 = 0.75\n",
      "C2 = 0.0\n",
      "C3 = 0.06999999999999999\n",
      "C4 = 0.17999999999999997\n"
     ]
    }
   ],
   "source": [
    "# Check user inputs\n",
    "tol = 1e-3\n",
    "if(abs(1- (P[0] + X[0] + X[1] + X[2] + X[3] + X[4] + X[5] + X[6])) < tol):\n",
    "    if(C[0] >= 0):\n",
    "        print('Concentrations add up.')\n",
    "        print('**************************************')\n",
    "        print('C1 =', C[0])\n",
    "        print('C2 =', C[1])\n",
    "        print('C3 =', C[2])\n",
    "        print('C4 =', C[3])\n",
    "    else:\n",
    "        print('WARNING: Concentrations add up, but they are not feasible.')\n",
    "        print('**************************************')\n",
    "        print('Check user input before continuing.')\n",
    "else:\n",
    "    print('WARNING: Concentrations do not add up.')\n",
    "    print('**************************************')\n",
    "    print('Check user input before continuing.')"
   ]
  },
  {
   "cell_type": "code",
   "execution_count": 11,
   "id": "557823c4",
   "metadata": {},
   "outputs": [
    {
     "name": "stdout",
     "output_type": "stream",
     "text": [
      "The ratios for pellet dispensing will be:  [10.71428571  0.          1.          2.57142857]\n"
     ]
    }
   ],
   "source": [
    "concentrations = [C[0], C[1], C[2], C[3]]\n",
    "minC = np.min([C for C in concentrations if C>tol])\n",
    "#masked_concentrations = np.ma.masked_equal(concentrations, 0.0, copy=False)\n",
    "#minC = masked_concentrations.min()\n",
    "ratios = concentrations/minC \n",
    "print('The ratios for pellet dispensing will be: ', ratios)"
   ]
  },
  {
   "cell_type": "code",
   "execution_count": 12,
   "id": "44503687",
   "metadata": {},
   "outputs": [],
   "source": [
    "balance = serial.Serial(port=balance_port, baudrate=9600, bytesize=serial.SEVENBITS,\n",
    "                       parity=serial.PARITY_EVEN, stopbits=serial.STOPBITS_ONE)\n",
    "\n",
    "def tare(balance):\n",
    "    # Set the balance measurement to 0.0 g\n",
    "    try:\n",
    "        balance.write(b'T\\r\\n')\n",
    "    except:\n",
    "        balance = serial.Serial(port=balance_port, baudrate=9600, bytesize=serial.SEVENBITS,\n",
    "                       parity=serial.PARITY_EVEN, stopbits=serial.STOPBITS_ONE)\n",
    "        balance.write(b'T\\r\\n')\n",
    "\n",
    "\n",
    "def calib(balance):\n",
    "    # Calibrate the balance automatically\n",
    "    try:\n",
    "        balance.write(b'C\\r\\n')\n",
    "    except:\n",
    "        balance = serial.Serial(port=balance_port, baudrate=9600, bytesize=serial.SEVENBITS,\n",
    "                       parity=serial.PARITY_EVEN, stopbits=serial.STOPBITS_ONE)\n",
    "        balance.write(b'C\\r\\n')\n",
    "\n",
    "def measure(balance):\n",
    "    try:\n",
    "        trash = balance.read_all()\n",
    "        balance.write(b'B\\r\\n')\n",
    "        reading = balance.readline()\n",
    "        weight = float(reading[:10])\n",
    "    except:\n",
    "        balance = serial.Serial(port=balance_port, baudrate=9600, bytesize=serial.SEVENBITS,\n",
    "                       parity=serial.PARITY_EVEN, stopbits=serial.STOPBITS_ONE)\n",
    "        trash = balance.read_all()\n",
    "        balance.write(b'B\\r\\n')\n",
    "        reading = balance.readline()\n",
    "        weight = float(reading[:10])\n",
    "    return weight"
   ]
  },
  {
   "cell_type": "code",
   "execution_count": 13,
   "id": "e5d04710",
   "metadata": {},
   "outputs": [],
   "source": [
    "arduino = serial.Serial(arduino_port, 9600)\n",
    "time.sleep(2)"
   ]
  },
  {
   "cell_type": "code",
   "execution_count": 14,
   "id": "46dda18f",
   "metadata": {},
   "outputs": [
    {
     "data": {
      "text/plain": [
       "1"
      ]
     },
     "execution_count": 14,
     "metadata": {},
     "output_type": "execute_result"
    }
   ],
   "source": [
    "arduino.write(b'8')"
   ]
  },
  {
   "cell_type": "code",
   "execution_count": 22,
   "id": "9eba12f0",
   "metadata": {},
   "outputs": [
    {
     "name": "stdout",
     "output_type": "stream",
     "text": [
      "iteration  1 | t =  179.9284543991089 s |  mass 1:  10.756\n",
      "iteration  1 | t =  196.31 s |  mass 3:  1.122\n",
      "iteration  1 | t =  216.94 s |  mass 4:  2.683\n",
      "iteration  2 | t =  432.7366461753845 s |  mass 1:  21.434\n",
      "iteration  2 | t =  447.75 s |  mass 3:  2.126\n",
      "iteration  2 | t =  469.93 s |  mass 4:  5.224\n",
      "iteration  3 | t =  737.5340297222137 s |  mass 1:  32.25\n",
      "iteration  3 | t =  750.55 s |  mass 3:  3.142\n",
      "iteration  3 | t =  783.54 s |  mass 4:  7.828\n",
      "iteration  4 | t =  1021.7680349349976 s |  mass 1:  42.882\n",
      "iteration  4 | t =  1034.98 s |  mass 3:  4.057\n",
      "iteration  4 | t =  1055.77 s |  mass 4:  10.591\n",
      "iteration  5 | t =  1289.201375246048 s |  mass 1:  53.659\n",
      "iteration  5 | t =  1299.78 s |  mass 3:  5.062\n",
      "iteration  5 | t =  1315.38 s |  mass 4:  13.316\n",
      "iteration  6 | t =  1432.9976980686188 s |  mass 1:  65.035\n",
      "iteration  6 | t =  1451.39 s |  mass 3:  6.022\n",
      "iteration  6 | t =  1472.98 s |  mass 4:  15.685\n",
      "iteration  7 | t =  1547.0061984062195 s |  mass 1:  75.023\n",
      "iteration  7 | t =  1566.99 s |  mass 3:  7.040\n",
      "iteration  7 | t =  1593.82 s |  mass 4:  18.504\n"
     ]
    }
   ],
   "source": [
    "measureAll = True\n",
    "massAll = 0\n",
    "mass = 0\n",
    "mass1 = []\n",
    "mass1.insert(0,0)\n",
    "mass2= []\n",
    "mass2.insert(0,0)\n",
    "mass3= []\n",
    "mass3.insert(0,0)\n",
    "mass4= []\n",
    "mass4.insert(0,0)\n",
    "i = 0\n",
    "times = []\n",
    "times.insert(0,0)\n",
    "start = time.time()\n",
    "finish1 = []\n",
    "finish1.insert(0,0)\n",
    "finish2 = []\n",
    "finish2.insert(0,0)\n",
    "finish3 = []\n",
    "finish3.insert(0,0)\n",
    "finish4 = []\n",
    "finish4.insert(0,0)\n",
    "\n",
    "while measureAll == True:\n",
    "    if C[0] > tol:\n",
    "        if mass1[i] < ratios[0]*(i+1):\n",
    "            measureNow = True\n",
    "            tare(balance)\n",
    "            time.sleep(2)\n",
    "            arduino.write(b'3')\n",
    "            while measureNow == True:\n",
    "                mass = measure(balance)\n",
    "                if mass + mass1[i] >= ratios[0]*(i+1):\n",
    "                    arduino.write(b'8')\n",
    "                    time.sleep(4)\n",
    "                    mass = measure(balance)\n",
    "                    measureNow = False\n",
    "            massAll = massAll + mass\n",
    "            mass1.insert(i+1,mass1[i]+mass)\n",
    "            time.sleep(0.1)\n",
    "        elif mass1[i] >= ratios[0]*(i+1):\n",
    "            arduino.write(b'8')\n",
    "        finish1.insert(i+1,time.time()-start)\n",
    "        print(\"iteration \", i+1, \"| t = \", finish1[i+1], \"s | \", \"mass 1: \", mass1[i+1])\n",
    "            \n",
    "    if C[1] > tol:\n",
    "        if over2 < ratios[1]:\n",
    "            measureNow = True\n",
    "            tare(balance)\n",
    "            time.sleep(2.5)\n",
    "            arduino.write(b'3')\n",
    "            while measureNow == True:\n",
    "                mass = measure(balance)\n",
    "                if mass >= ratios[1] - over2:\n",
    "                    arduino.write(b'8')\n",
    "                    time.sleep(7.5)\n",
    "                    mass = measure(balance)\n",
    "                    over2 = mass - (ratios[1] - over2)\n",
    "                    measureNow = False\n",
    "            massAll = massAll + mass\n",
    "            mass2[i+1] = mass2[i] + mass\n",
    "            time.sleep(0.1)\n",
    "        elif over2 >= ratios[1]:\n",
    "            arduino.write(b'8')\n",
    "            over2 = 0\n",
    "        print(mass2)\n",
    "            \n",
    "    if C[2] > tol:\n",
    "        if mass3[i] < ratios[2]*(i+1):\n",
    "            measureNow = True\n",
    "            tare(balance)\n",
    "            time.sleep(2)\n",
    "            arduino.write(b'4')\n",
    "            while measureNow == True:\n",
    "                mass = measure(balance)\n",
    "                if mass + mass3[i] >= ratios[2]*(i+1):\n",
    "                    arduino.write(b'8')\n",
    "                    time.sleep(4)\n",
    "                    mass = measure(balance)\n",
    "                    measureNow = False\n",
    "            massAll = massAll + mass\n",
    "            mass3.insert(i+1,mass3[i]+mass)\n",
    "            time.sleep(0.1)\n",
    "        elif mass3[i] >= ratios[2]*(i+1):\n",
    "            arduino.write(b'8')\n",
    "        finish3.insert(i+1,time.time()-start)\n",
    "        print(\"iteration \", i+1, \"| t = \", '%.2f' % finish3[i+1], \"s | \", \"mass 3: \", '%.3f' % mass3[i+1])\n",
    "            \n",
    "    if C[3] > tol:\n",
    "        if mass4[i] < ratios[3]*(i+1):\n",
    "            measureNow = True\n",
    "            tare(balance)\n",
    "            time.sleep(2)\n",
    "            arduino.write(b'5')\n",
    "            while measureNow == True:\n",
    "                mass = measure(balance)\n",
    "                if mass + mass4[i] >= ratios[3]*(i+1):\n",
    "                    arduino.write(b'8')\n",
    "                    time.sleep(4)\n",
    "                    mass = measure(balance)\n",
    "                    measureNow = False\n",
    "            massAll = massAll + mass\n",
    "            mass4.insert(i+1,mass4[i]+mass)\n",
    "            time.sleep(0.1)\n",
    "        elif mass4[i] >= ratios[3]*(i+1):\n",
    "            arduino.write(b'8')\n",
    "        finish4.insert(i+1,time.time()-start)\n",
    "        print(\"iteration \", i+1, \"| t = \", '%.2f' % finish4[i+1], \"s | \", \"mass 4: \", '%.3f' % mass4[i+1])\n",
    "                      \n",
    "    if massAll > m[0]:\n",
    "        measureAll = False\n",
    "        arduino.write(b'8')\n",
    "    i = i + 1"
   ]
  },
  {
   "cell_type": "code",
   "execution_count": null,
   "id": "953d8ccb",
   "metadata": {},
   "outputs": [],
   "source": [
    "arduino.write(b'8')"
   ]
  },
  {
   "cell_type": "code",
   "execution_count": 20,
   "id": "14b0bf55",
   "metadata": {},
   "outputs": [
    {
     "data": {
      "image/png": "[encoded data removed]",
      "text/plain": [
       "<Figure size 432x288 with 1 Axes>"
      ]
     },
     "metadata": {
      "needs_background": "light"
     },
     "output_type": "display_data"
    }
   ],
   "source": [
    "import matplotlib.pyplot as plt\n",
    "\n",
    "plt.plot(finish1, mass1,label='PLA')\n",
    "plt.plot(finish4,mass4,label='Boron Nitride')\n",
    "plt.plot(finish3,mass3,label='Graphite')\n",
    "plt.title(\"Progression of Sample\")\n",
    "plt.xlabel(\"Time [s]\")\n",
    "plt.ylabel(\"Mass [g]\")\n",
    "plt.legend()\n",
    "plt.show()"
   ]
  },
  {
   "cell_type": "code",
   "execution_count": 23,
   "id": "1f4d1e2a",
   "metadata": {},
   "outputs": [
    {
     "data": {
      "text/plain": [
       "100.56699999999998"
      ]
     },
     "execution_count": 23,
     "metadata": {},
     "output_type": "execute_result"
    }
   ],
   "source": [
    "massAll"
   ]
  },
  {
   "cell_type": "code",
   "execution_count": 18,
   "id": "400f9dc3",
   "metadata": {},
   "outputs": [
    {
     "name": "stdout",
     "output_type": "stream",
     "text": [
      "Accuracy: 99.95 %\n",
      "Mass flow rate:  289.89 g/h\n"
     ]
    }
   ],
   "source": [
    "error = X[1]abs((mass4[i] * 0.1)/(mass4[i] + mass1[i]))/(massAll)*100\n",
    "accuracy = 100 - error\n",
    "print('Accuracy:', '%.2f' % accuracy,'%')\n",
    "\n",
    "rate = massAll/finish4[i]\n",
    "rate = rate * 3600\n",
    "print('Mass flow rate: ', '%.2f' % rate,'g/h')"
   ]
  },
  {
   "cell_type": "code",
   "execution_count": null,
   "id": "fb9dbeaa",
   "metadata": {},
   "outputs": [],
   "source": []
  },
  {
   "cell_type": "code",
   "execution_count": null,
   "id": "a4109a9f",
   "metadata": {},
   "outputs": [],
   "source": []
  }
 ],
 "metadata": {
  "kernelspec": {
   "display_name": "Python 3 (ipykernel)",
   "language": "python",
   "name": "python3"
  },
  "language_info": {
   "codemirror_mode": {
    "name": "ipython",
    "version": 3
   },
   "file_extension": ".py",
   "mimetype": "text/x-python",
   "name": "python",
   "nbconvert_exporter": "python",
   "pygments_lexer": "ipython3",
   "version": "3.9.13"
  }
 },
 "nbformat": 4,
 "nbformat_minor": 5
}
