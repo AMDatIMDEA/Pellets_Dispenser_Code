{
 "cells": [
  {
   "cell_type": "code",
   "execution_count": 18,
   "id": "f5f4ea43-8119-4b8f-8e33-9568ca17e96f",
   "metadata": {},
   "outputs": [],
   "source": [
    "import numpy as np\n",
    "import pandas as pd\n",
    "\n",
    "tol = 1e-3"
   ]
  },
  {
   "cell_type": "code",
   "execution_count": 19,
   "id": "ebb0871c-0f24-4e6e-a290-fec21b07eb35",
   "metadata": {},
   "outputs": [],
   "source": [
    "setup = pd.read_csv(\"../data/dispenser_setup.csv\")"
   ]
  },
  {
   "cell_type": "code",
   "execution_count": 45,
   "id": "83264fee-c601-4970-b27a-028456d4386f",
   "metadata": {},
   "outputs": [
    {
     "name": "stdout",
     "output_type": "stream",
     "text": [
      "Dispenser 1: 100.0% of PLA, \n",
      "Dispenser 2: 90.0% of PLA, 10.0% of GNP, \n",
      "Dispenser 3: 90.0% of PLA, 10.0% of CLO, \n",
      "Dispenser 4: 90.0% of PLA, 10.0% of BN, \n"
     ]
    }
   ],
   "source": [
    "for index, row in setup.iterrows():\n",
    "    non_zero_elements = [(col, value) for col, value in row.items() if (value != 0 and col != \"Dispenser\")]\n",
    "    if non_zero_elements:\n",
    "        dispenser_string = \"Dispenser \" + str(index+1) + \": \"\n",
    "        for element in non_zero_elements:\n",
    "            dispenser_string += str(element[1]*100) + \"% of \" + element[0] + \", \"\n",
    "        print(dispenser_string)\n",
    "        #print(f\"Dispenser {index + 1}: {non_zero_elements}\")"
   ]
  },
  {
   "cell_type": "code",
   "execution_count": null,
   "id": "9be2e753-c8e3-4c53-88da-f2c0e8a0435b",
   "metadata": {},
   "outputs": [],
   "source": []
  }
 ],
 "metadata": {
  "kernelspec": {
   "display_name": "Python 3 (ipykernel)",
   "language": "python",
   "name": "python3"
  },
  "language_info": {
   "codemirror_mode": {
    "name": "ipython",
    "version": 3
   },
   "file_extension": ".py",
   "mimetype": "text/x-python",
   "name": "python",
   "nbconvert_exporter": "python",
   "pygments_lexer": "ipython3",
   "version": "3.9.13"
  }
 },
 "nbformat": 4,
 "nbformat_minor": 5
}
