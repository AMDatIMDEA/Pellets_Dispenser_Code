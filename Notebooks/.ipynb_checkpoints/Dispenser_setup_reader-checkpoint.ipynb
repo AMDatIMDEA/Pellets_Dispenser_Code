{
 "cells": [
  {
   "cell_type": "code",
   "execution_count": 60,
   "id": "f5f4ea43-8119-4b8f-8e33-9568ca17e96f",
   "metadata": {},
   "outputs": [],
   "source": [
    "import numpy as np\n",
    "import pandas as pd\n",
    "from collections import Counter\n",
    "\n",
    "tol = 1e-3"
   ]
  },
  {
   "cell_type": "code",
   "execution_count": 61,
   "id": "ebb0871c-0f24-4e6e-a290-fec21b07eb35",
   "metadata": {},
   "outputs": [],
   "source": [
    "setup = pd.read_csv(\"../data/dispenser_setup.csv\", comment='#')"
   ]
  },
  {
   "cell_type": "code",
   "execution_count": 62,
   "id": "87354cd2-4b1f-4910-8abd-7001dea48adb",
   "metadata": {},
   "outputs": [],
   "source": [
    "Polymers = [\"PLA\"]"
   ]
  },
  {
   "cell_type": "code",
   "execution_count": 63,
   "id": "83264fee-c601-4970-b27a-028456d4386f",
   "metadata": {},
   "outputs": [
    {
     "name": "stdout",
     "output_type": "stream",
     "text": [
      "Dispenser 1: 100.0% of PLA, \n",
      "Dispenser 2: 90.0% of PLA, 10.0% of GNP, \n",
      "Dispenser 3: 90.0% of PLA, 10.0% of CLO, \n",
      "Dispenser 4: 90.0% of PLA, 10.0% of BN, \n",
      "Dispenser 5: 100.0% of PLA, \n",
      "There are repeated values in your setup, we recommend you to bridge those dispensers together for increased flow. Otherwise, only one of them will be used\n"
     ]
    },
    {
     "name": "stdin",
     "output_type": "stream",
     "text": [
      "Press Enter to continue \n"
     ]
    }
   ],
   "source": [
    "relevant_component = dict()\n",
    "matrix = dict()\n",
    "additive = dict()\n",
    "\n",
    "for index, row in setup.iterrows():\n",
    "    non_zero_elements = [(col, value) for col, value in row.items() if (value != 0 and col != \"Dispenser\")]\n",
    "    if non_zero_elements:\n",
    "        dispenser_string = \"Dispenser \" + str(index+1) + \": \"\n",
    "        for element in non_zero_elements:\n",
    "            dispenser_string += str(element[1]*100) + \"% of \" + element[0] + \", \"\n",
    "            if element[0] in Polymers:\n",
    "                matrix[index+1] = element[1]\n",
    "            else:\n",
    "                additive[index+1] = element[1]\n",
    "        if len(non_zero_elements) == 1:\n",
    "            if non_zero_elements[0][0] in Polymers:\n",
    "                relevant_component[index+1] = non_zero_elements[0][0]\n",
    "            else:\n",
    "                print(\"Error, polymer in dispenser \", index, \" not specified\")\n",
    "                input(\"Press Enter to continue\")\n",
    "                \n",
    "        elif len(non_zero_elements) == 2:\n",
    "            relevant_component[index+1] = [element[0] for element in non_zero_elements if element[0] not in Polymers][0]\n",
    "        else:\n",
    "            print(\"The material in dispenser \", index, \" contains more than 2 additives\")\n",
    "            input(\"Press Enter to continue\")\n",
    "        print(dispenser_string)\n",
    "        \n",
    "        total = np.sum([element[1] for element in non_zero_elements])\n",
    "        if np.abs(total-1) > tol:\n",
    "            print(\"Error in composition in dispenser \", index, \", check if the setup file is correct\")\n",
    "            input(\"Press Enter to continue\")\n",
    "\n",
    "value_counts = Counter(relevant_component.values())\n",
    "repeated_values = [value for value, count in value_counts.items() if count > 1]\n",
    "if repeated_values:\n",
    "    print(\"There are repeated values in your setup, we recommend you to bridge those dispensers together for increased flow. Otherwise, only one of them will be used\")\n",
    "    input(\"Press Enter to continue\")\n",
    "    \n"
   ]
  },
  {
   "cell_type": "code",
   "execution_count": 64,
   "id": "09ba768c-5064-47ca-962f-730fbbd6985f",
   "metadata": {},
   "outputs": [
    {
     "data": {
      "text/plain": [
       "{1: 'PLA', 2: 'GNP', 3: 'CLO', 4: 'BN', 5: 'PLA'}"
      ]
     },
     "execution_count": 64,
     "metadata": {},
     "output_type": "execute_result"
    }
   ],
   "source": [
    "relevant_component"
   ]
  },
  {
   "cell_type": "code",
   "execution_count": 65,
   "id": "9778cee9-07c4-445d-8c13-d7a0529287ad",
   "metadata": {},
   "outputs": [],
   "source": [
    "dispensers_map =  {value: key for key, value in relevant_component.items()}"
   ]
  },
  {
   "cell_type": "code",
   "execution_count": 66,
   "id": "19114701-6c7c-4f61-9b50-a9421acb0cd7",
   "metadata": {},
   "outputs": [],
   "source": [
    "compositions = pd.read_csv(\"../data/compositions_to_dispense.csv\", comment='#')"
   ]
  },
  {
   "cell_type": "code",
   "execution_count": 69,
   "id": "58f92459-09a1-43f6-9b56-583d80f82246",
   "metadata": {},
   "outputs": [
    {
     "name": "stdout",
     "output_type": "stream",
     "text": [
      "Composition  1\n",
      "5 : 0.95\n",
      "2 : 0.02\n",
      "3 : 0.015\n",
      "4 : 0.015\n",
      "Composition  2\n",
      "5 : 0.95\n",
      "2 : 0.01\n",
      "3 : 0.02\n",
      "4 : 0.02\n"
     ]
    }
   ],
   "source": [
    "compositions\n",
    "\n",
    "for index, row in compositions.iterrows():\n",
    "    print(\"Composition \", index+1)\n",
    "    non_zero_elements = [(col, value) for col, value in row.items() if (value != 0 and col != \"Composition\")]\n",
    "    for element in non_zero_elements:\n",
    "        dispenser = dispensers_map[element[0]]\n",
    "        print(dispenser, \":\", element[1])       "
   ]
  },
  {
   "cell_type": "code",
   "execution_count": 68,
   "id": "6abafd91-19ec-4558-862a-36ec6285d0e5",
   "metadata": {},
   "outputs": [
    {
     "data": {
      "text/plain": [
       "{'PLA': 5, 'GNP': 2, 'CLO': 3, 'BN': 4}"
      ]
     },
     "execution_count": 68,
     "metadata": {},
     "output_type": "execute_result"
    }
   ],
   "source": [
    "dispensers_map"
   ]
  },
  {
   "cell_type": "code",
   "execution_count": null,
   "id": "ff870527-c7fd-4055-974d-4a32a8cc8079",
   "metadata": {},
   "outputs": [],
   "source": []
  }
 ],
 "metadata": {
  "kernelspec": {
   "display_name": "Python 3 (ipykernel)",
   "language": "python",
   "name": "python3"
  },
  "language_info": {
   "codemirror_mode": {
    "name": "ipython",
    "version": 3
   },
   "file_extension": ".py",
   "mimetype": "text/x-python",
   "name": "python",
   "nbconvert_exporter": "python",
   "pygments_lexer": "ipython3",
   "version": "3.9.13"
  }
 },
 "nbformat": 4,
 "nbformat_minor": 5
}
