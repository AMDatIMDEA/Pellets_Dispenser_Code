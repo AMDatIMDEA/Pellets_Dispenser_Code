{
 "cells": [
  {
   "cell_type": "markdown",
   "id": "79d7b161-fae3-4cf6-96e7-56cb79696ae0",
   "metadata": {},
   "source": [
    "# Example using pellet dispenser\n",
    "\n",
    "This notebook contains an example of how to run the code for using the multimaterial dispenser. Most cells can be run without any modification if the dispenser has been built without design modifications. The lines that need modifications are marked like this:\n",
    "\n",
    "`###############################################################################`"
   ]
  },
  {
   "cell_type": "code",
   "execution_count": null,
   "id": "cca1ff06-aaaf-4df3-8f25-39722086b046",
   "metadata": {
    "tags": []
   },
   "outputs": [],
   "source": [
    "# Import Libraries\n",
    "import serial\n",
    "import numpy as np\n",
    "import time\n",
    "import serial.tools.list_ports\n",
    "import os\n",
    "import sys\n",
    "sys.path.append('src')\n",
    "from DispenserSetup import SetupDispenser, Compositions"
   ]
  },
  {
   "cell_type": "markdown",
   "id": "71bf0344-7b03-4943-9975-f0f3b8fc72a2",
   "metadata": {},
   "source": [
    "In this cell, we define the port name for the arduino and the balance. We do it by listing the connected ports and selecting the ones whose device serial is the corresponding to our device. You should find the serial of your devices and change it accordingly. You can do it by inspecting the devices detected by serial.tools.list_ports.comports(). In case of doubt, try disconnecting and connecting to see which ports are affected."
   ]
  },
  {
   "cell_type": "code",
   "execution_count": null,
   "id": "16493b6c",
   "metadata": {
    "tags": []
   },
   "outputs": [],
   "source": [
    "ports = serial.tools.list_ports.comports()\n",
    "\n",
    "###############################################################################\n",
    "\n",
    "arduino_serial = \"write_here_your_arduino_serial\"\n",
    "balance_serial = \"write_here_your_balance_serial\"\n",
    "\n",
    "###############################################################################\n",
    "\n",
    "for port in ports:\n",
    "    if port.serial_number == arduino_serial:\n",
    "        arduino_port = port.device\n",
    "    elif port.serial_number == balance_serial:\n",
    "        balance_port = port.device\n",
    "        \n",
    "### Serial initialization\n",
    "## Arduino\n",
    "arduino = serial.Serial(arduino_port, 9600)\n",
    "## Balance\n",
    "balance = serial.Serial(port=balance_port, baudrate=9600, bytesize=serial.SEVENBITS,\n",
    "                       parity=serial.PARITY_EVEN, stopbits=serial.STOPBITS_ONE)"
   ]
  },
  {
   "cell_type": "markdown",
   "id": "5bc95af9-0551-45cb-8478-d36582cf03a2",
   "metadata": {},
   "source": [
    "In the next cell, we use the Arduino Command Line Interface (arduino-cli) to compile and upload the arduino script. If you prefer to do it using the Graphical User Interface, skip this cell. For using it, update the location of your arduino-cli"
   ]
  },
  {
   "cell_type": "code",
   "execution_count": null,
   "id": "9f9638d5-a98b-4d17-bd4a-0121fc778455",
   "metadata": {
    "tags": []
   },
   "outputs": [],
   "source": [
    "###############################################################################################################\n",
    "\n",
    "os.system(\"PATH/arduino-cli compile --fqbn arduino:avr:mega 8noIRnew_NOshaketimer_new/8noIRnew_NOshaketimer_new.ino\")\n",
    "os.system(\"PATH/arduino-cli upload -p \"+arduino_port+\" --fqbn arduino:avr:mega 8noIRnew_NOshaketimer_new/8noIRnew_NOshaketimer_new.ino\")\n",
    "\n",
    "###############################################################################################################"
   ]
  },
  {
   "cell_type": "markdown",
   "id": "4fc6b21a-82ee-4cbf-9fa3-66b22a07eb24",
   "metadata": {},
   "source": [
    "The next step is to define the materials and their concentrations in each of the dispensers. For that we will use the `SetupDispenser` function from `/src/DispenserSetup`. It will require a `.csv` file detailing the compositions, that can be built following the example available in the help of the function:"
   ]
  },
  {
   "cell_type": "code",
   "execution_count": null,
   "id": "29c9ba62-18e0-424f-83a2-e0069ee3054b",
   "metadata": {
    "tags": []
   },
   "outputs": [],
   "source": [
    "help(SetupDispenser)"
   ]
  },
  {
   "cell_type": "code",
   "execution_count": null,
   "id": "30e7cb05-7760-4666-8edb-633a83d93dc2",
   "metadata": {
    "tags": []
   },
   "outputs": [],
   "source": [
    "###############################################################################\n",
    "D, M, A = SetupDispenser(\"data/dispenser_setup.csv\", \"PLA\")\n",
    "###############################################################################"
   ]
  },
  {
   "cell_type": "markdown",
   "id": "a4358fef-1824-4b35-8876-825ad3271107",
   "metadata": {},
   "source": [
    "Next, we read the file that contains the compositions using the Compositions function. It's working is detailed in the documentation:"
   ]
  },
  {
   "cell_type": "code",
   "execution_count": null,
   "id": "3edd9bf3-fb6d-475e-837c-4bfbbe8951f8",
   "metadata": {
    "tags": []
   },
   "outputs": [],
   "source": [
    "help(Compositions)"
   ]
  },
  {
   "cell_type": "code",
   "execution_count": null,
   "id": "1ed5134f-d69b-44c5-a8ec-41462a904bc4",
   "metadata": {
    "tags": []
   },
   "outputs": [],
   "source": [
    "###############################################################################\n",
    "compositions = Compositions(\"./data/compositions_to_dispense.csv\", D, M, A, \"PLA\")\n",
    "###############################################################################\n",
    "print(compositions)"
   ]
  },
  {
   "cell_type": "markdown",
   "id": "7df332e4-fe2f-40a2-8a7d-8d1795446240",
   "metadata": {},
   "source": [
    "For the rest of the notebook we will use only the first of the compositions available in the .csv file. in your application you can easily loop over all of them, just remember to change the cup in the balance between compositions."
   ]
  },
  {
   "cell_type": "code",
   "execution_count": null,
   "id": "df7a26ad-d304-499d-84c1-f2532a4ae720",
   "metadata": {
    "tags": []
   },
   "outputs": [],
   "source": [
    "C = compositions[0]"
   ]
  },
  {
   "cell_type": "markdown",
   "id": "b1a1eba4-852c-4dfc-adc1-f6ceacb15ff5",
   "metadata": {},
   "source": [
    "It is convenient now to establish a ratio between materials: in this way, instead of dispensing all the ammount of one material and then of another, we can alternate small quantities and thus have a better mixing. We do this by selecting the one with lower ammount and expressing the others as a ratio with respect to this one. In every step we will dispense 1 g of the smaller one and the corresponding grams of the rest."
   ]
  },
  {
   "cell_type": "code",
   "execution_count": null,
   "id": "557823c4",
   "metadata": {
    "tags": []
   },
   "outputs": [],
   "source": [
    "tol = 1e-3\n",
    "minC = np.min([c for c in C if c>tol])\n",
    "ratios = C/minC \n",
    "print('The ratios for pellet dispensing will be: ', ratios)"
   ]
  },
  {
   "cell_type": "markdown",
   "id": "4c549bb1-bb36-4b24-9e26-059f0b8ebb99",
   "metadata": {},
   "source": [
    "The next cell stablish commands to tare, calibrate and measure weight from the balance. You may need to edit them if your balance uses a different protocol."
   ]
  },
  {
   "cell_type": "code",
   "execution_count": null,
   "id": "44503687",
   "metadata": {
    "tags": []
   },
   "outputs": [],
   "source": [
    "###############################################################################\n",
    "def tare(balance):\n",
    "    # Set the balance measurement to 0.0 g\n",
    "    try:\n",
    "        balance.write(b'T\\r\\n')\n",
    "    except:\n",
    "        balance = serial.Serial(port=balance_port, baudrate=9600, bytesize=serial.SEVENBITS,\n",
    "                       parity=serial.PARITY_EVEN, stopbits=serial.STOPBITS_ONE)\n",
    "        balance.write(b'T\\r\\n')\n",
    "\n",
    "\n",
    "def calib(balance):\n",
    "    # Calibrate the balance automatically\n",
    "    try:\n",
    "        balance.write(b'C\\r\\n')\n",
    "    except:\n",
    "        balance = serial.Serial(port=balance_port, baudrate=9600, bytesize=serial.SEVENBITS,\n",
    "                       parity=serial.PARITY_EVEN, stopbits=serial.STOPBITS_ONE)\n",
    "        balance.write(b'C\\r\\n')\n",
    "\n",
    "def measure(balance):\n",
    "    try:\n",
    "        trash = balance.read_all()\n",
    "        balance.write(b'B\\r\\n')\n",
    "        reading = balance.readline()\n",
    "        weight = float(reading[:10])\n",
    "    except:\n",
    "        balance = serial.Serial(port=balance_port, baudrate=9600, bytesize=serial.SEVENBITS,\n",
    "                       parity=serial.PARITY_EVEN, stopbits=serial.STOPBITS_ONE)\n",
    "        trash = balance.read_all()\n",
    "        balance.write(b'B\\r\\n')\n",
    "        reading = balance.readline()\n",
    "        weight = float(reading[:10])\n",
    "    return weight\n",
    "###############################################################################"
   ]
  },
  {
   "cell_type": "markdown",
   "id": "4c2b0a46-d22c-451a-908a-cdef3478fac3",
   "metadata": {},
   "source": [
    "Select the total ammount of material that you want to dispense"
   ]
  },
  {
   "cell_type": "code",
   "execution_count": null,
   "id": "43f2562a-08a5-470b-9d2d-6acd6b3a20d6",
   "metadata": {
    "tags": []
   },
   "outputs": [],
   "source": [
    "###############################################################################\n",
    "mass_target = 100 # g\n",
    "###############################################################################"
   ]
  },
  {
   "cell_type": "markdown",
   "id": "b34b4256-b20b-422e-9875-4eb3a6e698fc",
   "metadata": {},
   "source": [
    "Now, we define some variables and arrays that we will need in the dispensing loop"
   ]
  },
  {
   "cell_type": "code",
   "execution_count": null,
   "id": "9eba12f0",
   "metadata": {
    "tags": []
   },
   "outputs": [],
   "source": [
    "measureAll = True\n",
    "massAll = 0\n",
    "mass = 0\n",
    "masses = [[0] for _ in range(8)]\n",
    "i = 0\n",
    "times = [[0] for _ in range(8)]\n",
    "\n",
    "\n",
    "dispenser_switch = {0 : b'0', 1 : b'1', 2 : b'2', 3 : b'3', \n",
    "                    4 : b'4', 5 : b'5', 6 : b'6', 7 : b'7', 'stop' : b'8'}"
   ]
  },
  {
   "cell_type": "markdown",
   "id": "70a9feed-f3f8-4f0b-8c12-650ce481fed6",
   "metadata": {},
   "source": [
    "The next cell runs the dispensers until the desired quantity is reached. As pointed above, it will alternate dispensers keeping the ratios between materials."
   ]
  },
  {
   "cell_type": "code",
   "execution_count": null,
   "id": "691d8954-3d43-4041-b777-9d8363940f38",
   "metadata": {
    "tags": []
   },
   "outputs": [],
   "source": [
    "start = time.time()\n",
    "\n",
    "while measureAll == True:\n",
    "    for j in range(len(C)):\n",
    "        if C[j] > tol:\n",
    "            if masses[j][i] < ratios[j]*(i+1):\n",
    "                measureNow = True\n",
    "                tare(balance)\n",
    "                time.sleep(2)\n",
    "                arduino.write(dispenser_switch[j])\n",
    "                while measureNow == True:\n",
    "                    mass = measure(balance)\n",
    "                    if mass + masses[j][i] >= ratios[j]*(i+1):\n",
    "                        arduino.write(dispenser_switch['stop'])\n",
    "                        time.sleep(4)\n",
    "                        mass = measure(balance)\n",
    "                        measureNow = False\n",
    "                massAll = massAll + mass\n",
    "                masses[j].append(masses[j][i]+mass)\n",
    "                times[j].append(time.time()-start)\n",
    "                time.sleep(0.1)\n",
    "            elif masses[j][i] >= ratios[j]*(i+1):\n",
    "                arduino.write(dispenser_switch['stop'])\n",
    "            print(\"Dispenser \", j, \"| iteration: \", i+1, \"| t = \", times[j][i+1], \"s | \", \"mass : \", masses[j][i+1])                  \n",
    "    if massAll > mass_target:\n",
    "        measureAll = False\n",
    "        arduino.write(dispenser_switch['stop'])\n",
    "    i = i + 1\n",
    "    \n",
    "arduino.write(dispenser_switch['stop'])"
   ]
  },
  {
   "cell_type": "markdown",
   "id": "51095125-f366-4776-ac4d-eb70c92e662c",
   "metadata": {},
   "source": [
    "We can now plot the dispensing progress, comparing the amount that was actually dispensed and the one asked by the code"
   ]
  },
  {
   "cell_type": "code",
   "execution_count": null,
   "id": "14b0bf55",
   "metadata": {},
   "outputs": [],
   "source": [
    "import matplotlib.pyplot as plt\n",
    "\n",
    "colors = [\"C0\", \"C1\", \"C2\", \"C3\", \"C4\", \"C5\", \"C6\", \"C7\"] \n",
    "\n",
    "for key in D.keys():\n",
    "    plt.plot(times[D[key]-1], masses[D[key]-1],label=key, c=colors[D[key]-1])\n",
    "    plt.plot(times[D[key]-1], np.arange(len(times[D[key]-1]))*ratios[D[key]-1], '--',c=colors[D[key]-1])\n",
    "plt.plot(0,0,'--',c = 'gray',label = \"Expected amounts\")\n",
    "plt.title(\"Progression of Sample\")\n",
    "plt.xlabel(\"Time [s]\")\n",
    "plt.ylabel(\"Mass [g]\")\n",
    "plt.legend()\n",
    "plt.show()"
   ]
  },
  {
   "cell_type": "markdown",
   "id": "5b5d94de-a837-4fb7-9823-6c8c91a3a465",
   "metadata": {},
   "source": [
    "Finally, we present a measure for accuracy consistent of the total error commited divided by the total amount dispensed:"
   ]
  },
  {
   "cell_type": "code",
   "execution_count": null,
   "id": "5d62e285-3ea8-496b-b7a1-4f469d9ca8b5",
   "metadata": {},
   "outputs": [],
   "source": [
    "final_masses = [mass[-1] for mass in masses[:]]\n",
    "accuracy = (1-np.sum(abs(final_masses-C*mass_target))/np.sum(final_masses))*100\n",
    "print(\"Accuracy: \", accuracy, \"%\")"
   ]
  },
  {
   "cell_type": "code",
   "execution_count": null,
   "id": "fd27b3af-5ba2-4282-99b7-04a4cb8f8fc0",
   "metadata": {},
   "outputs": [],
   "source": []
  }
 ],
 "metadata": {
  "kernelspec": {
   "display_name": "Python 3 (ipykernel)",
   "language": "python",
   "name": "python3"
  },
  "language_info": {
   "codemirror_mode": {
    "name": "ipython",
    "version": 3
   },
   "file_extension": ".py",
   "mimetype": "text/x-python",
   "name": "python",
   "nbconvert_exporter": "python",
   "pygments_lexer": "ipython3",
   "version": "3.9.13"
  }
 },
 "nbformat": 4,
 "nbformat_minor": 5
}
