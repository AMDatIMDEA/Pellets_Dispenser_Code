{
 "cells": [
  {
   "cell_type": "markdown",
   "id": "79d7b161-fae3-4cf6-96e7-56cb79696ae0",
   "metadata": {},
   "source": [
    "# Example using pellet dispenser\n",
    "\n",
    "This notebook contains an example of how to run the code for using the multimaterial dispenser. Most cells can be run without any modification if the dispenser has been built without design modifications. The lines that need modifications are marked like this:\n",
    "\n",
    "`###############################################################################`"
   ]
  },
  {
   "cell_type": "code",
   "execution_count": 1,
   "id": "cca1ff06-aaaf-4df3-8f25-39722086b046",
   "metadata": {
    "tags": []
   },
   "outputs": [],
   "source": [
    "# Import Libraries\n",
    "import serial\n",
    "import numpy as np\n",
    "import time\n",
    "import serial.tools.list_ports\n",
    "import os\n",
    "import sys\n",
    "sys.path.append('../src/Python/')\n",
    "from DispenserSetup import SetupDispenser, Compositions"
   ]
  },
  {
   "cell_type": "markdown",
   "id": "71bf0344-7b03-4943-9975-f0f3b8fc72a2",
   "metadata": {},
   "source": [
    "In this cell, we define the port name for the arduino and the balance. We do it by listing the connected ports and selecting the ones whose device serial is the corresponding to our device. You should find the serial of your devices and change it accordingly. You can do it by inspecting the devices detected by serial.tools.list_ports.comports(). In case of doubt, try disconnecting and connecting to see which ports are affected."
   ]
  },
  {
   "cell_type": "code",
   "execution_count": 2,
   "id": "16493b6c",
   "metadata": {
    "tags": []
   },
   "outputs": [],
   "source": [
    "ports = serial.tools.list_ports.comports()\n",
    "\n",
    "###############################################################################\n",
    "\n",
    "arduino_serial = '85036313530351F0B141'#\"write_here_your_arduino_serial\"\n",
    "balance_serial = 'FT2OHLM4'#\"write_here_your_balance_serial\"\n",
    "\n",
    "###############################################################################\n",
    "\n",
    "for port in ports:\n",
    "    if port.serial_number == arduino_serial:\n",
    "        arduino_port = port.device\n",
    "    elif port.serial_number == balance_serial:\n",
    "        balance_port = port.device\n",
    "        \n",
    "### Serial initialization\n",
    "## Arduino\n",
    "arduino = serial.Serial(arduino_port, 9600)\n",
    "## Balance\n",
    "balance = serial.Serial(port=balance_port, baudrate=9600, bytesize=serial.SEVENBITS,\n",
    "                       parity=serial.PARITY_EVEN, stopbits=serial.STOPBITS_ONE)"
   ]
  },
  {
   "cell_type": "markdown",
   "id": "5bc95af9-0551-45cb-8478-d36582cf03a2",
   "metadata": {},
   "source": [
    "In the next cell, we use the Arduino Command Line Interface (arduino-cli) to compile and upload the arduino script. If you prefer to do it using the Graphical User Interface, skip this cell. For using it, update the location of your arduino-cli"
   ]
  },
  {
   "cell_type": "code",
   "execution_count": 3,
   "id": "9f9638d5-a98b-4d17-bd4a-0121fc778455",
   "metadata": {
    "tags": []
   },
   "outputs": [
    {
     "name": "stdout",
     "output_type": "stream",
     "text": [
      "Sketch uses 9474 bytes (3%) of program storage space. Maximum is 253952 bytes.\n",
      "Global variables use 788 bytes (9%) of dynamic memory, leaving 7404 bytes for local variables. Maximum is 8192 bytes.\n",
      "\n",
      "\u001b[92mUsed library\u001b[0m \u001b[92mVersion\u001b[0m \u001b[90mPath\u001b[0m                                       \n",
      "\u001b[93mAccelStepper\u001b[0m 1.64    \u001b[90m/home/miguel/Arduino/libraries/AccelStepper\u001b[0m\n",
      "\n",
      "\u001b[92mUsed platform\u001b[0m \u001b[92mVersion\u001b[0m \u001b[90mPath\u001b[0m                                                       \n",
      "\u001b[93marduino:avr\u001b[0m   1.8.6   \u001b[90m/home/miguel/.arduino15/packages/arduino/hardware/avr/1.8.6\u001b[0m\n"
     ]
    },
    {
     "data": {
      "text/plain": [
       "0"
      ]
     },
     "execution_count": 3,
     "metadata": {},
     "output_type": "execute_result"
    }
   ],
   "source": [
    "###############################################################################################################\n",
    "\n",
    "os.system(\"/home/miguel/Downloads/arduino-cli_0.33.0_Linux_64bit/arduino-cli compile --fqbn arduino:avr:mega ../src/Arduino/8noIRnew_NOshaketimer_new/8noIRnew_NOshaketimer_new.ino\")\n",
    "os.system(\"/home/miguel/Downloads/arduino-cli_0.33.0_Linux_64bit/arduino-cli upload -p \"+arduino_port+\" --fqbn arduino:avr:mega ../src/Arduino/8noIRnew_NOshaketimer_new/8noIRnew_NOshaketimer_new.ino\")\n",
    "\n",
    "#os.system(\"PATH/arduino-cli_0.33.0_Linux_64bit/arduino-cli compile --fqbn arduino:avr:mega ../src/Arduino/8noIRnew_NOshaketimer_new/8noIRnew_NOshaketimer_new.ino\")\n",
    "#os.system(\"PATH/arduino-cli upload -p \"+arduino_port+\" --fqbn arduino:avr:mega 8noIRnew_NOshaketimer_new/8noIRnew_NOshaketimer_new.ino\")\n",
    "\n",
    "\n",
    "###############################################################################################################"
   ]
  },
  {
   "cell_type": "markdown",
   "id": "4fc6b21a-82ee-4cbf-9fa3-66b22a07eb24",
   "metadata": {},
   "source": [
    "The next step is to define the materials and their concentrations in each of the dispensers. For that we will use the `SetupDispenser` function from `/src/DispenserSetup`. It will require a `.csv` file detailing the compositions, that can be built following the example available in the help of the function:"
   ]
  },
  {
   "cell_type": "code",
   "execution_count": 4,
   "id": "29c9ba62-18e0-424f-83a2-e0069ee3054b",
   "metadata": {
    "tags": []
   },
   "outputs": [
    {
     "name": "stdout",
     "output_type": "stream",
     "text": [
      "Help on function SetupDispenser in module DispenserSetup:\n",
      "\n",
      "SetupDispenser(dispenser_setup_file, Polymer)\n",
      "    Funtion to read the setup file and create structures to define what material each dispenser has.\n",
      "    \n",
      "    Inputs:\n",
      "    \n",
      "        dispenser_setup_file: full route of a .csv file with the different materials and how they are arranged. Example:\n",
      "            Dispenser, PLA, GNP, CLO, BN\n",
      "            1, 0.0, 0.0, 0.0, 0.0 # Empty\n",
      "            2, 0.0, 0.0, 0.0, 0.0 # Empty\n",
      "            3, 0.0, 0.0, 0.0, 0.0 # Empty\n",
      "            4, 1.0, 0.0, 0.0, 0.0 # Contains pure polymer\n",
      "            5, 0.9, 0.1, 0.0, 0.0 # Polymer with 10% GNP\n",
      "            6, 0.9, 0.0, 0.0, 0.1 # Polymer with 10% BN\n",
      "            7, 0.0, 0.0, 0.0, 0.0 # Empty\n",
      "            8, 0.0, 0.0, 0.0, 0.0 # Empty\n",
      "            \n",
      "            Notes:\n",
      "            - Only one polymer matrix allowed.\n",
      "            - All of the non-empty dispensers must contain the polymer matrix and at most one additive.\n",
      "            - The composition for each dispenser has to sum 1.\n",
      "            \n",
      "        Polymer: A string with the name of the polymer matrix, written exactly like in the .csv file. e.g.: \"PLA\"\n",
      "        \n",
      "    Outputs:\n",
      "        \n",
      "        dispensers_map : A dict with the active dispensers and their main component \n",
      "        \n",
      "        M: array with the fraction of polymer matrix in each dispenser\n",
      "        \n",
      "        A: array with the fraction of additive in each dispenser\n",
      "\n"
     ]
    }
   ],
   "source": [
    "help(SetupDispenser)"
   ]
  },
  {
   "cell_type": "code",
   "execution_count": 5,
   "id": "30e7cb05-7760-4666-8edb-633a83d93dc2",
   "metadata": {
    "tags": []
   },
   "outputs": [
    {
     "name": "stdout",
     "output_type": "stream",
     "text": [
      "Dispenser 1: 100.0% of PLA, \n",
      "Dispenser 2: 90.0% of PLA, 10.0% of GNP, \n",
      "Dispenser 3: 90.0% of PLA, 10.0% of CLO, \n"
     ]
    }
   ],
   "source": [
    "###############################################################################\n",
    "D, M, A = SetupDispenser(\"../data/dispenser_setup.csv\", \"PLA\")\n",
    "###############################################################################"
   ]
  },
  {
   "cell_type": "markdown",
   "id": "a4358fef-1824-4b35-8876-825ad3271107",
   "metadata": {},
   "source": [
    "Next, we read the file that contains the compositions using the Compositions function. It's working is detailed in the documentation:"
   ]
  },
  {
   "cell_type": "code",
   "execution_count": 6,
   "id": "3edd9bf3-fb6d-475e-837c-4bfbbe8951f8",
   "metadata": {
    "tags": []
   },
   "outputs": [
    {
     "name": "stdout",
     "output_type": "stream",
     "text": [
      "Help on function Compositions in module DispenserSetup:\n",
      "\n",
      "Compositions(compositions_file, dispensers_map, M, A, Polymer)\n",
      "    Funtion to read the compositions file and define what compositions to dispense.\n",
      "    \n",
      "    Inputs:\n",
      "    \n",
      "        compositions_file: full route of a .csv file with the ddesired compositions. Example:\n",
      "            Composition,PLA,GNP,CLO,BN\n",
      "            1,0.95,0.02,0.0,0.03\n",
      "            2,0.95,0.04,0.0,0.01\n",
      "            \n",
      "        dispensers_map, M, A: arrays returned from SetupDispenser function. \n",
      "        \n",
      "    Outputs:\n",
      "        \n",
      "        C: list of arrays with the quantities to dispense from each dispenser for every composition in the file.\n",
      "\n"
     ]
    }
   ],
   "source": [
    "help(Compositions)"
   ]
  },
  {
   "cell_type": "code",
   "execution_count": 7,
   "id": "1ed5134f-d69b-44c5-a8ec-41462a904bc4",
   "metadata": {
    "tags": []
   },
   "outputs": [
    {
     "name": "stdout",
     "output_type": "stream",
     "text": [
      "Composition  0 : Concentrations add up.\n",
      "Composition  1 : Concentrations add up.\n",
      "[array([0.5, 0.2, 0.3, 0. , 0. , 0. , 0. , 0. ]), array([0.5, 0.4, 0.1, 0. , 0. , 0. , 0. , 0. ])]\n"
     ]
    }
   ],
   "source": [
    "###############################################################################\n",
    "compositions = Compositions(\"../data/compositions_to_dispense.csv\", D, M, A, \"PLA\")\n",
    "###############################################################################\n",
    "print(compositions)"
   ]
  },
  {
   "cell_type": "markdown",
   "id": "7df332e4-fe2f-40a2-8a7d-8d1795446240",
   "metadata": {},
   "source": [
    "For the rest of the notebook we will use only the first of the compositions available in the .csv file. in your application you can easily loop over all of them, just remember to change the cup in the balance between compositions."
   ]
  },
  {
   "cell_type": "code",
   "execution_count": 8,
   "id": "df7a26ad-d304-499d-84c1-f2532a4ae720",
   "metadata": {
    "tags": []
   },
   "outputs": [],
   "source": [
    "C = compositions[0]"
   ]
  },
  {
   "cell_type": "markdown",
   "id": "b1a1eba4-852c-4dfc-adc1-f6ceacb15ff5",
   "metadata": {},
   "source": [
    "It is convenient now to establish a ratio between materials: in this way, instead of dispensing all the ammount of one material and then of another, we can alternate small quantities and thus have a better mixing. We do this by selecting the one with lower ammount and expressing the others as a ratio with respect to this one. In every step we will dispense 1 g of the smaller one and the corresponding grams of the rest."
   ]
  },
  {
   "cell_type": "code",
   "execution_count": 9,
   "id": "557823c4",
   "metadata": {
    "tags": []
   },
   "outputs": [
    {
     "name": "stdout",
     "output_type": "stream",
     "text": [
      "The ratios for pellet dispensing will be:  [2.5 1.  1.5 0.  0.  0.  0.  0. ]\n"
     ]
    }
   ],
   "source": [
    "tol = 1e-3\n",
    "minC = np.min([c for c in C if c>tol])\n",
    "ratios = C/minC \n",
    "print('The ratios for pellet dispensing will be: ', ratios)"
   ]
  },
  {
   "cell_type": "markdown",
   "id": "4c549bb1-bb36-4b24-9e26-059f0b8ebb99",
   "metadata": {},
   "source": [
    "The next cell stablish commands to tare, calibrate and measure weight from the balance. You may need to edit them if your balance uses a different protocol."
   ]
  },
  {
   "cell_type": "code",
   "execution_count": 10,
   "id": "44503687",
   "metadata": {
    "tags": []
   },
   "outputs": [],
   "source": [
    "###############################################################################\n",
    "def tare(balance):\n",
    "    # Set the balance measurement to 0.0 g\n",
    "    try:\n",
    "        balance.write(b'T\\r\\n')\n",
    "    except:\n",
    "        balance = serial.Serial(port=balance_port, baudrate=9600, bytesize=serial.SEVENBITS,\n",
    "                       parity=serial.PARITY_EVEN, stopbits=serial.STOPBITS_ONE)\n",
    "        balance.write(b'T\\r\\n')\n",
    "\n",
    "\n",
    "def calib(balance):\n",
    "    # Calibrate the balance automatically\n",
    "    try:\n",
    "        balance.write(b'C\\r\\n')\n",
    "    except:\n",
    "        balance = serial.Serial(port=balance_port, baudrate=9600, bytesize=serial.SEVENBITS,\n",
    "                       parity=serial.PARITY_EVEN, stopbits=serial.STOPBITS_ONE)\n",
    "        balance.write(b'C\\r\\n')\n",
    "\n",
    "def measure(balance):\n",
    "    try:\n",
    "        trash = balance.read_all()\n",
    "        balance.write(b'B\\r\\n')\n",
    "        reading = balance.readline()\n",
    "        weight = float(reading[:10])\n",
    "    except:\n",
    "        balance = serial.Serial(port=balance_port, baudrate=9600, bytesize=serial.SEVENBITS,\n",
    "                       parity=serial.PARITY_EVEN, stopbits=serial.STOPBITS_ONE)\n",
    "        trash = balance.read_all()\n",
    "        balance.write(b'B\\r\\n')\n",
    "        reading = balance.readline()\n",
    "        weight = float(reading[:10])\n",
    "    return weight\n",
    "###############################################################################"
   ]
  },
  {
   "cell_type": "markdown",
   "id": "4c2b0a46-d22c-451a-908a-cdef3478fac3",
   "metadata": {},
   "source": [
    "Select the total ammount of material that you want to dispense"
   ]
  },
  {
   "cell_type": "code",
   "execution_count": 11,
   "id": "43f2562a-08a5-470b-9d2d-6acd6b3a20d6",
   "metadata": {
    "tags": []
   },
   "outputs": [],
   "source": [
    "###############################################################################\n",
    "mass_target = 150 # g\n",
    "###############################################################################"
   ]
  },
  {
   "cell_type": "markdown",
   "id": "b34b4256-b20b-422e-9875-4eb3a6e698fc",
   "metadata": {},
   "source": [
    "Now, we define some variables and arrays that we will need in the dispensing loop"
   ]
  },
  {
   "cell_type": "code",
   "execution_count": 12,
   "id": "9eba12f0",
   "metadata": {
    "tags": []
   },
   "outputs": [],
   "source": [
    "measureAll = True\n",
    "massAll = 0\n",
    "mass = 0\n",
    "masses = [[0] for _ in range(8)]\n",
    "i = 0\n",
    "times = [[0] for _ in range(8)]\n",
    "\n",
    "\n",
    "dispenser_switch = {0 : b'0', 1 : b'1', 2 : b'2', 3 : b'3', \n",
    "                    4 : b'4', 5 : b'5', 6 : b'6', 7 : b'7', 'stop' : b'8'}"
   ]
  },
  {
   "cell_type": "markdown",
   "id": "70a9feed-f3f8-4f0b-8c12-650ce481fed6",
   "metadata": {},
   "source": [
    "The next cell runs the dispensers until the desired quantity is reached. As pointed above, it will alternate dispensers keeping the ratios between materials."
   ]
  },
  {
   "cell_type": "code",
   "execution_count": 13,
   "id": "691d8954-3d43-4041-b777-9d8363940f38",
   "metadata": {
    "tags": []
   },
   "outputs": [
    {
     "name": "stdout",
     "output_type": "stream",
     "text": [
      "Dispenser  0 | iteration:  1 | t =  9.895380735397339 s |  mass :  3.372\n",
      "Dispenser  1 | iteration:  1 | t =  34.10499382019043 s |  mass :  1.132\n",
      "Dispenser  2 | iteration:  1 | t =  52.70577144622803 s |  mass :  1.716\n",
      "Dispenser  0 | iteration:  2 | t =  61.303162574768066 s |  mass :  5.647\n",
      "Dispenser  1 | iteration:  2 | t =  75.50986313819885 s |  mass :  2.151\n",
      "Dispenser  2 | iteration:  2 | t =  89.30059361457825 s |  mass :  3.142\n",
      "Dispenser  0 | iteration:  3 | t =  98.29727482795715 s |  mass :  8.392\n",
      "Dispenser  1 | iteration:  3 | t =  112.50379467010498 s |  mass :  3.072\n",
      "Dispenser  2 | iteration:  3 | t =  128.308039188385 s |  mass :  4.708\n",
      "Dispenser  0 | iteration:  4 | t =  137.11303973197937 s |  mass :  10.559999999999999\n",
      "Dispenser  1 | iteration:  4 | t =  150.31270456314087 s |  mass :  4.05\n",
      "Dispenser  2 | iteration:  4 | t =  163.30455780029297 s |  mass :  6.159000000000001\n",
      "Dispenser  0 | iteration:  5 | t =  171.90204095840454 s |  mass :  13.183\n",
      "Dispenser  1 | iteration:  5 | t =  188.71295070648193 s |  mass :  5.051\n",
      "Dispenser  2 | iteration:  5 | t =  200.71409964561462 s |  mass :  7.577000000000001\n",
      "Dispenser  0 | iteration:  6 | t =  209.11928534507751 s |  mass :  15.753\n",
      "Dispenser  1 | iteration:  6 | t =  221.71152925491333 s |  mass :  6.303\n",
      "Dispenser  2 | iteration:  6 | t =  234.51188015937805 s |  mass :  9.027000000000001\n",
      "Dispenser  0 | iteration:  7 | t =  243.50878190994263 s |  mass :  18.372\n",
      "Dispenser  1 | iteration:  7 | t =  254.1191430091858 s |  mass :  7.179\n",
      "Dispenser  2 | iteration:  7 | t =  267.51036977767944 s |  mass :  10.833000000000002\n",
      "Dispenser  0 | iteration:  8 | t =  276.71495294570923 s |  mass :  20.995\n",
      "Dispenser  1 | iteration:  8 | t =  290.1223146915436 s |  mass :  8.108\n",
      "Dispenser  2 | iteration:  8 | t =  303.5136435031891 s |  mass :  12.170000000000002\n",
      "Dispenser  0 | iteration:  9 | t =  311.91915106773376 s |  mass :  23.008000000000003\n",
      "Dispenser  1 | iteration:  9 | t =  325.5186388492584 s |  mass :  9.125\n",
      "Dispenser  2 | iteration:  9 | t =  343.3205542564392 s |  mass :  13.529000000000002\n",
      "Dispenser  0 | iteration:  10 | t =  352.3174388408661 s |  mass :  25.982000000000003\n",
      "Dispenser  1 | iteration:  10 | t =  363.918869972229 s |  mass :  10.051\n",
      "Dispenser  2 | iteration:  10 | t =  383.7180471420288 s |  mass :  15.137000000000002\n",
      "Dispenser  0 | iteration:  11 | t =  392.12385869026184 s |  mass :  27.935000000000002\n",
      "Dispenser  1 | iteration:  11 | t =  406.92135286331177 s |  mass :  10.998\n",
      "Dispenser  2 | iteration:  11 | t =  423.5245428085327 s |  mass :  16.702\n",
      "Dispenser  0 | iteration:  12 | t =  432.92065167427063 s |  mass :  30.959000000000003\n",
      "Dispenser  1 | iteration:  12 | t =  451.52180194854736 s |  mass :  12.158999999999999\n",
      "Dispenser  2 | iteration:  12 | t =  466.31916093826294 s |  mass :  18.177000000000003\n",
      "Dispenser  0 | iteration:  13 | t =  474.532888174057 s |  mass :  33.443000000000005\n",
      "Dispenser  1 | iteration:  13 | t =  487.73194789886475 s |  mass :  13.130999999999998\n",
      "Dispenser  2 | iteration:  13 | t =  504.92602348327637 s |  mass :  19.571\n",
      "Dispenser  0 | iteration:  14 | t =  513.3314471244812 s |  mass :  35.93900000000001\n",
      "Dispenser  1 | iteration:  14 | t =  526.7386984825134 s |  mass :  14.173999999999998\n",
      "Dispenser  2 | iteration:  14 | t =  542.7345592975616 s |  mass :  21.292\n",
      "Dispenser  0 | iteration:  15 | t =  551.7312626838684 s |  mass :  38.74600000000001\n",
      "Dispenser  1 | iteration:  15 | t =  568.5264432430267 s |  mass :  15.039999999999997\n",
      "Dispenser  2 | iteration:  15 | t =  580.1275641918182 s |  mass :  22.704\n",
      "Dispenser  0 | iteration:  16 | t =  588.9321482181549 s |  mass :  40.82100000000001\n",
      "Dispenser  1 | iteration:  16 | t =  607.7407305240631 s |  mass :  16.131999999999998\n",
      "Dispenser  2 | iteration:  16 | t =  621.5309598445892 s |  mass :  24.174\n",
      "Dispenser  0 | iteration:  17 | t =  630.9429256916046 s |  mass :  43.64100000000001\n",
      "Dispenser  1 | iteration:  17 | t =  649.3366386890411 s |  mass :  17.108999999999998\n",
      "Dispenser  2 | iteration:  17 | t =  666.1317601203918 s |  mass :  25.591\n",
      "Dispenser  0 | iteration:  18 | t =  674.9367015361786 s |  mass :  45.96100000000001\n",
      "Dispenser  1 | iteration:  18 | t =  689.3345470428467 s |  mass :  18.087\n",
      "Dispenser  2 | iteration:  18 | t =  706.5450167655945 s |  mass :  27.088\n",
      "Dispenser  0 | iteration:  19 | t =  715.3498680591583 s |  mass :  48.21400000000001\n",
      "Dispenser  1 | iteration:  19 | t =  738.7445225715637 s |  mass :  19.04\n",
      "Dispenser  2 | iteration:  19 | t =  757.345299243927 s |  mass :  28.841\n",
      "Dispenser  0 | iteration:  20 | t =  766.7416198253632 s |  mass :  51.04400000000001\n",
      "Dispenser  1 | iteration:  20 | t =  783.9519617557526 s |  mass :  20.087\n",
      "Dispenser  2 | iteration:  20 | t =  799.9474921226501 s |  mass :  30.183\n",
      "Dispenser  0 | iteration:  21 | t =  808.5446083545685 s |  mass :  53.34000000000001\n",
      "Dispenser  1 | iteration:  21 | t =  822.1436765193939 s |  mass :  21.082\n",
      "Dispenser  2 | iteration:  21 | t =  834.9438691139221 s |  mass :  31.589\n",
      "Dispenser  0 | iteration:  22 | t =  844.5476224422455 s |  mass :  56.14400000000001\n",
      "Dispenser  1 | iteration:  22 | t =  866.3448615074158 s |  mass :  22.155\n",
      "Dispenser  2 | iteration:  22 | t =  879.9597327709198 s |  mass :  33.412\n",
      "Dispenser  0 | iteration:  23 | t =  888.5570390224457 s |  mass :  58.87100000000001\n",
      "Dispenser  1 | iteration:  23 | t =  904.361159324646 s |  mass :  23.074\n",
      "Dispenser  2 | iteration:  23 | t =  917.7525379657745 s |  mass :  34.722\n",
      "Dispenser  0 | iteration:  24 | t =  926.5574948787689 s |  mass :  60.63700000000001\n",
      "Dispenser  1 | iteration:  24 | t =  941.5624685287476 s |  mass :  24.154000000000003\n",
      "Dispenser  2 | iteration:  24 | t =  958.7568795681 s |  mass :  36.057\n",
      "Dispenser  0 | iteration:  25 | t =  967.5619084835052 s |  mass :  63.135000000000005\n",
      "Dispenser  1 | iteration:  25 | t =  984.5645916461945 s |  mass :  25.127000000000002\n",
      "Dispenser  2 | iteration:  25 | t =  1000.7526688575745 s |  mass :  37.627\n",
      "Dispenser  0 | iteration:  26 | t =  1009.1579139232635 s |  mass :  65.328\n",
      "Dispenser  1 | iteration:  26 | t =  1025.1541962623596 s |  mass :  26.166000000000004\n",
      "Dispenser  2 | iteration:  26 | t =  1041.3573009967804 s |  mass :  39.096000000000004\n",
      "Dispenser  0 | iteration:  27 | t =  1050.370124578476 s |  mass :  68.86200000000001\n",
      "Dispenser  1 | iteration:  27 | t =  1063.3617281913757 s |  mass :  27.207000000000004\n",
      "Dispenser  2 | iteration:  27 | t =  1076.7693128585815 s |  mass :  40.855000000000004\n",
      "Dispenser  0 | iteration:  28 | t =  1085.15878200531 s |  mass :  70.912\n",
      "Dispenser  1 | iteration:  28 | t =  1099.1730964183807 s |  mass :  28.050000000000004\n",
      "Dispenser  2 | iteration:  28 | t =  1112.9641606807709 s |  mass :  42.039\n",
      "Dispenser  0 | iteration:  29 | t =  1121.561419725418 s |  mass :  73.539\n",
      "Dispenser  1 | iteration:  29 | t =  1141.967404127121 s |  mass :  29.066000000000003\n",
      "Dispenser  2 | iteration:  29 | t =  1157.7715001106262 s |  mass :  43.754000000000005\n",
      "Dispenser  0 | iteration:  30 | t =  1166.1770038604736 s |  mass :  75.715\n",
      "Dispenser  1 | iteration:  30 | t =  1182.7644424438477 s |  mass :  30.182000000000002\n",
      "Dispenser  2 | iteration:  30 | t =  1196.9708025455475 s |  mass :  45.107000000000006\n"
     ]
    },
    {
     "data": {
      "text/plain": [
       "1"
      ]
     },
     "execution_count": 13,
     "metadata": {},
     "output_type": "execute_result"
    }
   ],
   "source": [
    "start = time.time()\n",
    "\n",
    "while measureAll == True:\n",
    "    for j in range(len(C)):\n",
    "        if C[j] > tol:\n",
    "            #if masses[j][i] < ratios[j]*(i+1):\n",
    "            \n",
    "            measureNow = True\n",
    "            tare(balance)\n",
    "            time.sleep(2)\n",
    "            arduino.write(dispenser_switch[j])\n",
    "            while measureNow == True:\n",
    "                mass = measure(balance)\n",
    "                if mass + masses[j][i] >= ratios[j]*(i+1):\n",
    "                    arduino.write(dispenser_switch['stop'])\n",
    "                    time.sleep(4)\n",
    "                    mass = measure(balance)\n",
    "                    measureNow = False\n",
    "            massAll = massAll + mass\n",
    "            masses[j].append(masses[j][i]+mass)\n",
    "            times[j].append(time.time()-start)\n",
    "            time.sleep(0.1)\n",
    "            \"\"\"\n",
    "            elif masses[j][i] >= ratios[j]*(i+1):\n",
    "                arduino.write(dispenser_switch['stop'])\n",
    "                masses[j].append(masses[j][i]+mass)\n",
    "                times[j].append(time.time()-start)\n",
    "            \"\"\"\n",
    "            print(\"Dispenser \", j, \"| iteration: \", i+1, \"| t = \", times[j][i+1], \"s | \", \"mass : \", masses[j][i+1])                  \n",
    "    if massAll > mass_target:\n",
    "        measureAll = False\n",
    "        arduino.write(dispenser_switch['stop'])\n",
    "    i = i + 1\n",
    "    \n",
    "arduino.write(dispenser_switch['stop'])"
   ]
  },
  {
   "cell_type": "markdown",
   "id": "51095125-f366-4776-ac4d-eb70c92e662c",
   "metadata": {},
   "source": [
    "We can now plot the dispensing progress, comparing the amount that was actually dispensed and the one asked by the code"
   ]
  },
  {
   "cell_type": "code",
   "execution_count": 14,
   "id": "14b0bf55",
   "metadata": {
    "tags": []
   },
   "outputs": [
    {
     "data": {
      "image/png": "[encoded data removed]",
      "text/plain": [
       "<Figure size 640x480 with 1 Axes>"
      ]
     },
     "metadata": {},
     "output_type": "display_data"
    }
   ],
   "source": [
    "import matplotlib.pyplot as plt\n",
    "\n",
    "colors = [\"C0\", \"C1\", \"C2\", \"C3\", \"C4\", \"C5\", \"C6\", \"C7\"] \n",
    "\n",
    "for key in D.keys():\n",
    "    plt.plot(times[D[key]-1], masses[D[key]-1],label=key, c=colors[D[key]-1])\n",
    "    plt.plot(times[D[key]-1], np.arange(len(times[D[key]-1]))*ratios[D[key]-1], '--',c=colors[D[key]-1])\n",
    "plt.plot(0,0,'--',c = 'gray',label = \"Expected amounts\")\n",
    "plt.title(\"Progression of Sample\")\n",
    "plt.xlabel(\"Time [s]\")\n",
    "plt.ylabel(\"Mass [g]\")\n",
    "plt.legend()\n",
    "plt.show()"
   ]
  },
  {
   "cell_type": "markdown",
   "id": "5b5d94de-a837-4fb7-9823-6c8c91a3a465",
   "metadata": {},
   "source": [
    "Finally, we present a measure for accuracy consistent of the total error commited divided by the total amount dispensed:"
   ]
  },
  {
   "cell_type": "code",
   "execution_count": 15,
   "id": "5d62e285-3ea8-496b-b7a1-4f469d9ca8b5",
   "metadata": {
    "tags": []
   },
   "outputs": [
    {
     "name": "stdout",
     "output_type": "stream",
     "text": [
      "Accuracy:  99.33511695054433 %\n"
     ]
    }
   ],
   "source": [
    "final_masses = [mass[-1] for mass in masses[:]]\n",
    "accuracy = (1-np.sum(abs(final_masses-C*mass_target))/np.sum(final_masses))*100\n",
    "print(\"Accuracy: \", accuracy, \"%\")"
   ]
  },
  {
   "cell_type": "code",
   "execution_count": null,
   "id": "fd27b3af-5ba2-4282-99b7-04a4cb8f8fc0",
   "metadata": {
    "tags": []
   },
   "outputs": [],
   "source": [
    "times"
   ]
  },
  {
   "cell_type": "code",
   "execution_count": null,
   "id": "61c01519-baec-42bb-8dcb-698b9a870b41",
   "metadata": {
    "tags": []
   },
   "outputs": [],
   "source": [
    "j"
   ]
  },
  {
   "cell_type": "code",
   "execution_count": null,
   "id": "99a03c04-ad9a-401e-8439-42ed81f4a7b9",
   "metadata": {
    "tags": []
   },
   "outputs": [],
   "source": [
    "i"
   ]
  },
  {
   "cell_type": "code",
   "execution_count": null,
   "id": "3f0a87fb-34c7-482d-bb09-10778e2242f3",
   "metadata": {
    "tags": []
   },
   "outputs": [],
   "source": [
    "arduino.write(dispenser_switch['stop'])"
   ]
  },
  {
   "cell_type": "code",
   "execution_count": null,
   "id": "5f66a8ed-b446-4182-b6aa-fa5bcd88758e",
   "metadata": {},
   "outputs": [],
   "source": []
  }
 ],
 "metadata": {
  "kernelspec": {
   "display_name": "Python 3 (ipykernel)",
   "language": "python",
   "name": "python3"
  },
  "language_info": {
   "codemirror_mode": {
    "name": "ipython",
    "version": 3
   },
   "file_extension": ".py",
   "mimetype": "text/x-python",
   "name": "python",
   "nbconvert_exporter": "python",
   "pygments_lexer": "ipython3",
   "version": "3.10.12"
  }
 },
 "nbformat": 4,
 "nbformat_minor": 5
}
