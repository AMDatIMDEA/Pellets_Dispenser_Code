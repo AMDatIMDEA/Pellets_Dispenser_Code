{
 "cells": [
  {
   "cell_type": "code",
   "execution_count": 1,
   "id": "f5f4ea43-8119-4b8f-8e33-9568ca17e96f",
   "metadata": {},
   "outputs": [],
   "source": [
    "import numpy as np\n",
    "import pandas as pd\n",
    "from collections import Counter\n",
    "\n",
    "tol = 1e-3"
   ]
  },
  {
   "cell_type": "code",
   "execution_count": 2,
   "id": "ebb0871c-0f24-4e6e-a290-fec21b07eb35",
   "metadata": {},
   "outputs": [],
   "source": [
    "setup = pd.read_csv(\"../data/dispenser_setup.csv\", comment='#')"
   ]
  },
  {
   "cell_type": "code",
   "execution_count": 3,
   "id": "87354cd2-4b1f-4910-8abd-7001dea48adb",
   "metadata": {},
   "outputs": [],
   "source": [
    "Polymers = [\"PLA\"]"
   ]
  },
  {
   "cell_type": "code",
   "execution_count": 4,
   "id": "83264fee-c601-4970-b27a-028456d4386f",
   "metadata": {},
   "outputs": [
    {
     "name": "stdout",
     "output_type": "stream",
     "text": [
      "Dispenser 4: 100.0% of PLA, \n",
      "Dispenser 5: 90.0% of PLA, 10.0% of GNP, \n",
      "Dispenser 6: 90.0% of PLA, 10.0% of BN, \n"
     ]
    }
   ],
   "source": [
    "relevant_component = dict()\n",
    "matrix = dict()\n",
    "additive = dict()\n",
    "\n",
    "for index, row in setup.iterrows():\n",
    "    non_zero_elements = [(col, value) for col, value in row.items() if (value != 0 and col != \"Dispenser\")]\n",
    "    if non_zero_elements:\n",
    "        dispenser_string = \"Dispenser \" + str(index+1) + \": \"\n",
    "        for element in non_zero_elements:\n",
    "            dispenser_string += str(element[1]*100) + \"% of \" + element[0] + \", \"\n",
    "            if element[0] in Polymers:\n",
    "                matrix[index+1] = element[1]\n",
    "            else:\n",
    "                additive[index+1] = element[1]\n",
    "        if len(non_zero_elements) == 1:\n",
    "            if non_zero_elements[0][0] in Polymers:\n",
    "                relevant_component[index+1] = non_zero_elements[0][0]\n",
    "            else:\n",
    "                print(\"Error, polymer in dispenser \", index, \" not specified\")\n",
    "                input(\"Press Enter to continue\")\n",
    "                \n",
    "        elif len(non_zero_elements) == 2:\n",
    "            relevant_component[index+1] = [element[0] for element in non_zero_elements if element[0] not in Polymers][0]\n",
    "        else:\n",
    "            print(\"The material in dispenser \", index, \" contains more than 2 additives\")\n",
    "            input(\"Press Enter to continue\")\n",
    "        print(dispenser_string)\n",
    "        \n",
    "        total = np.sum([element[1] for element in non_zero_elements])\n",
    "        if np.abs(total-1) > tol:\n",
    "            print(\"Error in composition in dispenser \", index, \", check if the setup file is correct\")\n",
    "            input(\"Press Enter to continue\")\n",
    "\n",
    "value_counts = Counter(relevant_component.values())\n",
    "repeated_values = [value for value, count in value_counts.items() if count > 1]\n",
    "if repeated_values:\n",
    "    print(\"There are repeated values in your setup, we recommend you to bridge those dispensers together for increased flow. Otherwise, only one of them will be used\")\n",
    "    input(\"Press Enter to continue\")\n",
    "    \n",
    "dispensers_map =  {value: key for key, value in relevant_component.items()}"
   ]
  },
  {
   "cell_type": "code",
   "execution_count": 5,
   "id": "15a2ba04-909e-4b60-9200-5a2746ed0b20",
   "metadata": {},
   "outputs": [],
   "source": [
    "M = np.zeros(8)\n",
    "A = np.zeros(8)\n",
    "\n",
    "for i in range(len(M)):\n",
    "    if i+1 in matrix.keys():\n",
    "        M[i] = matrix[i+1]\n",
    "    if i+1 in additive.keys():\n",
    "        A[i] = additive[i+1]"
   ]
  },
  {
   "cell_type": "code",
   "execution_count": 6,
   "id": "58f92459-09a1-43f6-9b56-583d80f82246",
   "metadata": {},
   "outputs": [
    {
     "name": "stdout",
     "output_type": "stream",
     "text": [
      "Concentrations add up.\n"
     ]
    }
   ],
   "source": [
    "compositions = pd.read_csv(\"../data/compositions_to_dispense.csv\", comment='#')\n",
    "\n",
    "for index, row in compositions.iterrows():\n",
    "    non_zero_elements = [(col, value) for col, value in row.items() if (value != 0 and col != \"Composition\")]\n",
    "    X = np.zeros(8)\n",
    "    for element in non_zero_elements:\n",
    "        X[dispensers_map[element[0]]-1] = element[1]\n",
    "    C = np.zeros(8)\n",
    "    polymer = dispensers_map[Polymers[0]]\n",
    "    for i in range(len(C)):\n",
    "        if A[i] > tol:\n",
    "            C[i] = X[i]/A[i]\n",
    "    C[polymer-1] = X[polymer-1] - np.sum(C * M)\n",
    "    if 1-np.sum(X) < tol:\n",
    "        print('Concentrations add up.')\n",
    "    else:\n",
    "        print('WARNING: Concentrations do not add up.')\n",
    "        print('**************************************')\n",
    "        print('Check user input before continuing.')"
   ]
  },
  {
   "cell_type": "code",
   "execution_count": 7,
   "id": "5c65eaf5-50a0-47fe-b960-094158ac512f",
   "metadata": {},
   "outputs": [
    {
     "data": {
      "text/plain": [
       "array([0. , 0. , 0. , 0.5, 0.2, 0.3, 0. , 0. ])"
      ]
     },
     "execution_count": 7,
     "metadata": {},
     "output_type": "execute_result"
    }
   ],
   "source": [
    "C"
   ]
  },
  {
   "cell_type": "code",
   "execution_count": 8,
   "id": "47d161f4-83f5-45e0-be19-d8a93d672d8b",
   "metadata": {},
   "outputs": [
    {
     "data": {
      "text/plain": [
       "8"
      ]
     },
     "execution_count": 8,
     "metadata": {},
     "output_type": "execute_result"
    }
   ],
   "source": [
    "len(setup)"
   ]
  },
  {
   "cell_type": "code",
   "execution_count": null,
   "id": "e80aa3d3-b8dd-4790-bca6-32bc1e3490d6",
   "metadata": {},
   "outputs": [],
   "source": []
  }
 ],
 "metadata": {
  "kernelspec": {
   "display_name": "Python 3 (ipykernel)",
   "language": "python",
   "name": "python3"
  },
  "language_info": {
   "codemirror_mode": {
    "name": "ipython",
    "version": 3
   },
   "file_extension": ".py",
   "mimetype": "text/x-python",
   "name": "python",
   "nbconvert_exporter": "python",
   "pygments_lexer": "ipython3",
   "version": "3.9.13"
  }
 },
 "nbformat": 4,
 "nbformat_minor": 5
}
