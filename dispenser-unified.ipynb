{
 "cells": [
  {
   "cell_type": "code",
   "execution_count": 1,
   "id": "71a9b38c",
   "metadata": {},
   "outputs": [],
   "source": [
    "# Import Libraries\n",
    "import serial\n",
    "import numpy as np\n",
    "import time"
   ]
  },
  {
   "cell_type": "code",
   "execution_count": 2,
   "id": "ede5bc23",
   "metadata": {},
   "outputs": [],
   "source": [
    "import serial.tools.list_ports"
   ]
  },
  {
   "cell_type": "code",
   "execution_count": null,
   "id": "16493b6c",
   "metadata": {},
   "outputs": [],
   "source": [
    "ports = serial.tools.list_ports.comports()\n",
    "\n",
    "for port in ports:\n",
    "    if port.serial_number == \"85036313530351F0B141\":\n",
    "        arduino_port = port.device\n",
    "    elif port.serial_number == \"FT2OHLM4A\":\n",
    "        balance_port = port.device"
   ]
  },
  {
   "cell_type": "code",
   "execution_count": null,
   "id": "f55ba1f3",
   "metadata": {},
   "outputs": [],
   "source": [
    "M = [None] * 8\n",
    "A = [None] * 8\n",
    "C = [None] * 8\n",
    "X = [None] * 7\n",
    "P = [None] * 1\n",
    "m = [None] * 1"
   ]
  },
  {
   "cell_type": "code",
   "execution_count": null,
   "id": "85e0a54e",
   "metadata": {},
   "outputs": [],
   "source": [
    "def setupDispenser(dispenser,matrixComp,additiveComp):\n",
    "    M[dispenser] = matrixComp\n",
    "    A[dispenser] = additiveComp\n",
    "    \n",
    "def userInput(mass,matrixComp,A1Comp,A2Comp,A3Comp,A4Comp,A5Comp,A6Comp,A7Comp):\n",
    "    m[0] = mass\n",
    "    P[0] = matrixComp\n",
    "    X[0] = A1Comp\n",
    "    X[1] = A2Comp\n",
    "    X[2] = A3Comp\n",
    "    X[3] = A4Comp\n",
    "    X[4] = A5Comp\n",
    "    X[5] = A6Comp\n",
    "    X[6] = A7Comp"
   ]
  },
  {
   "cell_type": "code",
   "execution_count": null,
   "id": "9fa73d04",
   "metadata": {},
   "outputs": [],
   "source": [
    "# Matrix - Additive (M-A) relation in each dispenser\n",
    "setupDispenser(0,0.9,0.1)\n",
    "setupDispenser(1,0.9,0.1)\n",
    "setupDispenser(2,0.9,0.1)\n",
    "setupDispenser(3,0.9,0.1)\n",
    "setupDispenser(4,0.9,0.1)\n",
    "setupDispenser(5,0.9,0.1)\n",
    "setupDispenser(6,0.9,0.1)\n",
    "setupDispenser(7,0.9,0.1)"
   ]
  },
  {
   "cell_type": "code",
   "execution_count": null,
   "id": "8fc1f504",
   "metadata": {},
   "outputs": [],
   "source": [
    "# USER INPUT: Desired proportion of PLA (P) and additives (X, Y, Z)\n",
    "userInput(100,0.975,0,0.007,0.018,0,0,0,0)"
   ]
  },
  {
   "cell_type": "code",
   "execution_count": null,
   "id": "ca20de4a",
   "metadata": {},
   "outputs": [],
   "source": [
    "# Compute pellet proportions for desired output\n",
    "# Σ Ci*(Mi*P + Ai*X)\n",
    "for i in range(1,8):\n",
    "    C[i] = X[i-1]/A[i]"
   ]
  },
  {
   "cell_type": "code",
   "execution_count": null,
   "id": "b91a0f36",
   "metadata": {},
   "outputs": [],
   "source": [
    "# Fill remaining with plastic\n",
    "C[0] = P[0] - (C[1]*M[1] + C[2]*M[2] + C[3]*M[3] + C[4]*M[4] + C[5]*M[5] + C[6]*M[6] + C[7]*M[7])"
   ]
  },
  {
   "cell_type": "code",
   "execution_count": null,
   "id": "6a2971f7",
   "metadata": {},
   "outputs": [],
   "source": [
    "# Check user inputs\n",
    "tol = 1e-3\n",
    "if(abs(1- (P[0] + X[0] + X[1] + X[2] + X[3] + X[4] + X[5] + X[6])) < tol):\n",
    "    if(C[0] >= 0):\n",
    "        print('Concentrations add up.')\n",
    "        print('**************************************')\n",
    "        print('C1 =', C[0])\n",
    "        print('C2 =', C[1])\n",
    "        print('C3 =', C[2])\n",
    "        print('C4 =', C[3])\n",
    "    else:\n",
    "        print('WARNING: Concentrations add up, but they are not feasible.')\n",
    "        print('**************************************')\n",
    "        print('Check user input before continuing.')\n",
    "else:\n",
    "    print('WARNING: Concentrations do not add up.')\n",
    "    print('**************************************')\n",
    "    print('Check user input before continuing.')"
   ]
  },
  {
   "cell_type": "code",
   "execution_count": null,
   "id": "557823c4",
   "metadata": {},
   "outputs": [],
   "source": [
    "concentrations = [C[0], C[1], C[2], C[3]]\n",
    "minC = np.min([C for C in concentrations if C>tol])\n",
    "#masked_concentrations = np.ma.masked_equal(concentrations, 0.0, copy=False)\n",
    "#minC = masked_concentrations.min()\n",
    "ratios = concentrations/minC \n",
    "print('The ratios for pellet dispensing will be: ', ratios)"
   ]
  },
  {
   "cell_type": "code",
   "execution_count": null,
   "id": "44503687",
   "metadata": {},
   "outputs": [],
   "source": [
    "balance = serial.Serial(port=balance_port, baudrate=9600, bytesize=serial.SEVENBITS,\n",
    "                       parity=serial.PARITY_EVEN, stopbits=serial.STOPBITS_ONE)\n",
    "\n",
    "def tare(balance):\n",
    "    # Set the balance measurement to 0.0 g\n",
    "    try:\n",
    "        balance.write(b'T\\r\\n')\n",
    "    except:\n",
    "        balance = serial.Serial(port=balance_port, baudrate=9600, bytesize=serial.SEVENBITS,\n",
    "                       parity=serial.PARITY_EVEN, stopbits=serial.STOPBITS_ONE)\n",
    "        balance.write(b'T\\r\\n')\n",
    "\n",
    "\n",
    "def calib(balance):\n",
    "    # Calibrate the balance automatically\n",
    "    try:\n",
    "        balance.write(b'C\\r\\n')\n",
    "    except:\n",
    "        balance = serial.Serial(port=balance_port, baudrate=9600, bytesize=serial.SEVENBITS,\n",
    "                       parity=serial.PARITY_EVEN, stopbits=serial.STOPBITS_ONE)\n",
    "        balance.write(b'C\\r\\n')\n",
    "\n",
    "def measure(balance):\n",
    "    try:\n",
    "        trash = balance.read_all()\n",
    "        balance.write(b'B\\r\\n')\n",
    "        reading = balance.readline()\n",
    "        weight = float(reading[:10])\n",
    "    except:\n",
    "        balance = serial.Serial(port=balance_port, baudrate=9600, bytesize=serial.SEVENBITS,\n",
    "                       parity=serial.PARITY_EVEN, stopbits=serial.STOPBITS_ONE)\n",
    "        trash = balance.read_all()\n",
    "        balance.write(b'B\\r\\n')\n",
    "        reading = balance.readline()\n",
    "        weight = float(reading[:10])\n",
    "    return weight"
   ]
  },
  {
   "cell_type": "code",
   "execution_count": null,
   "id": "e5d04710",
   "metadata": {},
   "outputs": [],
   "source": [
    "arduino = serial.Serial(arduino_port, 9600)\n",
    "time.sleep(2)"
   ]
  },
  {
   "cell_type": "code",
   "execution_count": null,
   "id": "46dda18f",
   "metadata": {},
   "outputs": [],
   "source": [
    "arduino.write(b'8')"
   ]
  },
  {
   "cell_type": "code",
   "execution_count": null,
   "id": "9eba12f0",
   "metadata": {},
   "outputs": [],
   "source": [
    "measureAll = True\n",
    "massAll = 0\n",
    "mass = 0\n",
    "masses = [[] for _ in range(8)]\n",
    "i = 0\n",
    "times = [[] for _ in range(8)]\n",
    "start = time.time()\n",
    "\n",
    "dispenser_switch = {0 : b'0', 1 : b'1', 2 : b'2', 3 : b'3', \n",
    "                    4 : b'4', 5 : b'5', 6 : b'6', 7 : b'7', 'stop' : b'8'}\n",
    "\n",
    "\n",
    "\n",
    "while measureAll == True:\n",
    "    for j in range(len(C)):\n",
    "        if C[j] > tol:\n",
    "            if masses[j][i] < ratios[j]*(i+1):\n",
    "                measureNow = True\n",
    "                tare(balance)\n",
    "                time.sleep(2)\n",
    "                arduino.write(dispenser_switch[j])\n",
    "                while measureNow == True:\n",
    "                    mass = measure(balance)\n",
    "                    if mass + masses[j][i] >= ratios[j]*(i+1):\n",
    "                        arduino.write(dispenser_switch['stop'])\n",
    "                        time.sleep(4)\n",
    "                        mass = measure(balance)\n",
    "                        measureNow = False\n",
    "                massAll = massAll + mass\n",
    "                masses[j].append(masses[j][i]+mass)\n",
    "                time.sleep(0.1)\n",
    "            elif masses[j][i] >= ratios[j]*(i+1):\n",
    "                arduino.write(dispenser_switch['stop'])\n",
    "            times[j].append(time.time()-start)\n",
    "            print(\"iteration \", i+1, \"| t = \", times[j][i+1], \"s | \", \"mass : \", masses[j][i+1])                  \n",
    "    if massAll > m[0]:\n",
    "        measureAll = False\n",
    "        arduino.write(dispenser_switch['stop'])\n",
    "    i = i + 1"
   ]
  },
  {
   "cell_type": "code",
   "execution_count": null,
   "id": "953d8ccb",
   "metadata": {},
   "outputs": [],
   "source": [
    "arduino.write(dispenser_switch['stop'])"
   ]
  },
  {
   "cell_type": "code",
   "execution_count": null,
   "id": "14b0bf55",
   "metadata": {},
   "outputs": [],
   "source": [
    "import matplotlib.pyplot as plt\n",
    "\n",
    "plt.plot(finish1, mass1,label='PLA')\n",
    "plt.plot(finish4,mass4,label='Boron Nitride')\n",
    "plt.plot(finish3,mass3,label='Graphite')\n",
    "plt.title(\"Progression of Sample\")\n",
    "plt.xlabel(\"Time [s]\")\n",
    "plt.ylabel(\"Mass [g]\")\n",
    "plt.legend()\n",
    "plt.show()"
   ]
  },
  {
   "cell_type": "code",
   "execution_count": null,
   "id": "1f4d1e2a",
   "metadata": {},
   "outputs": [],
   "source": [
    "massAll"
   ]
  },
  {
   "cell_type": "code",
   "execution_count": null,
   "id": "400f9dc3",
   "metadata": {},
   "outputs": [],
   "source": [
    "error = X[1]abs((mass4[i] * 0.1)/(mass4[i] + mass1[i]))/(massAll)*100\n",
    "accuracy = 100 - error\n",
    "print('Accuracy:', '%.2f' % accuracy,'%')\n",
    "\n",
    "rate = massAll/finish4[i]\n",
    "rate = rate * 3600\n",
    "print('Mass flow rate: ', '%.2f' % rate,'g/h')"
   ]
  },
  {
   "cell_type": "code",
   "execution_count": 3,
   "id": "d949552c-221f-4e9e-bf5d-f74b51137460",
   "metadata": {},
   "outputs": [],
   "source": [
    "import sys\n",
    "sys.path.append('src')"
   ]
  },
  {
   "cell_type": "code",
   "execution_count": 4,
   "id": "d5ebf9c1-ea55-4516-8439-f9157f20ee73",
   "metadata": {},
   "outputs": [],
   "source": [
    "from DispenserSetup import SetupDispenser"
   ]
  },
  {
   "cell_type": "code",
   "execution_count": 5,
   "id": "cbe697cd-787f-4c37-9c26-401ce7152300",
   "metadata": {},
   "outputs": [
    {
     "name": "stdout",
     "output_type": "stream",
     "text": [
      "Dispenser 4: 100.0% of PLA, \n",
      "Dispenser 5: 90.0% of PLA, 10.0% of GNP, \n",
      "Dispenser 6: 90.0% of PLA, 10.0% of BN, \n"
     ]
    }
   ],
   "source": [
    "D, M, A = SetupDispenser(\"data/dispenser_setup.csv\", \"PLA\")"
   ]
  },
  {
   "cell_type": "code",
   "execution_count": 9,
   "id": "5bfeebe9-1a1a-4711-b841-2d21c168271c",
   "metadata": {},
   "outputs": [
    {
     "data": {
      "text/plain": [
       "{'PLA': 4, 'GNP': 5, 'BN': 6}"
      ]
     },
     "execution_count": 9,
     "metadata": {},
     "output_type": "execute_result"
    }
   ],
   "source": [
    "D"
   ]
  },
  {
   "cell_type": "code",
   "execution_count": 10,
   "id": "c6872044-f090-40fc-8b88-cd94c004c67c",
   "metadata": {},
   "outputs": [
    {
     "data": {
      "text/plain": [
       "array([0. , 0. , 0. , 1. , 0.9, 0.9, 0. , 0. ])"
      ]
     },
     "execution_count": 10,
     "metadata": {},
     "output_type": "execute_result"
    }
   ],
   "source": [
    "M"
   ]
  },
  {
   "cell_type": "code",
   "execution_count": 11,
   "id": "95e7bfd1-54b8-4513-a9e1-454f3b38ab42",
   "metadata": {},
   "outputs": [
    {
     "data": {
      "text/plain": [
       "array([0. , 0. , 0. , 0. , 0.1, 0.1, 0. , 0. ])"
      ]
     },
     "execution_count": 11,
     "metadata": {},
     "output_type": "execute_result"
    }
   ],
   "source": [
    "A"
   ]
  },
  {
   "cell_type": "code",
   "execution_count": 12,
   "id": "edbea57a-f401-48f6-a6e4-4e1754e0d00f",
   "metadata": {},
   "outputs": [],
   "source": [
    "import pandas as pd"
   ]
  },
  {
   "cell_type": "code",
   "execution_count": 13,
   "id": "6c96ce2c-fd82-47ae-9abe-daa0ddd66afb",
   "metadata": {},
   "outputs": [
    {
     "data": {
      "text/html": [
       "<div>\n",
       "<style scoped>\n",
       "    .dataframe tbody tr th:only-of-type {\n",
       "        vertical-align: middle;\n",
       "    }\n",
       "\n",
       "    .dataframe tbody tr th {\n",
       "        vertical-align: top;\n",
       "    }\n",
       "\n",
       "    .dataframe thead th {\n",
       "        text-align: right;\n",
       "    }\n",
       "</style>\n",
       "<table border=\"1\" class=\"dataframe\">\n",
       "  <thead>\n",
       "    <tr style=\"text-align: right;\">\n",
       "      <th></th>\n",
       "      <th>Composition</th>\n",
       "      <th>PLA</th>\n",
       "      <th>GNP</th>\n",
       "      <th>CLO</th>\n",
       "      <th>BN</th>\n",
       "    </tr>\n",
       "  </thead>\n",
       "  <tbody>\n",
       "    <tr>\n",
       "      <th>0</th>\n",
       "      <td>1</td>\n",
       "      <td>0.95</td>\n",
       "      <td>0.02</td>\n",
       "      <td>0.0</td>\n",
       "      <td>0.03</td>\n",
       "    </tr>\n",
       "  </tbody>\n",
       "</table>\n",
       "</div>"
      ],
      "text/plain": [
       "   Composition   PLA   GNP  CLO    BN\n",
       "0            1  0.95  0.02  0.0  0.03"
      ]
     },
     "execution_count": 13,
     "metadata": {},
     "output_type": "execute_result"
    }
   ],
   "source": [
    "pd.read_csv('./data/compositions_to_dispense.csv')"
   ]
  },
  {
   "cell_type": "code",
   "execution_count": 14,
   "id": "79a7a77d-bfaf-4072-ad67-a6e5329adb45",
   "metadata": {},
   "outputs": [
    {
     "data": {
      "text/plain": [
       "array([0.  , 0.  , 0.  , 0.  , 0.09, 0.09, 0.  , 0.  ])"
      ]
     },
     "execution_count": 14,
     "metadata": {},
     "output_type": "execute_result"
    }
   ],
   "source": [
    "M*1+"
   ]
  },
  {
   "cell_type": "code",
   "execution_count": null,
   "id": "bfcc219e-c24b-4c08-9179-bdbffd1955a9",
   "metadata": {},
   "outputs": [],
   "source": []
  }
 ],
 "metadata": {
  "kernelspec": {
   "display_name": "Python 3 (ipykernel)",
   "language": "python",
   "name": "python3"
  },
  "language_info": {
   "codemirror_mode": {
    "name": "ipython",
    "version": 3
   },
   "file_extension": ".py",
   "mimetype": "text/x-python",
   "name": "python",
   "nbconvert_exporter": "python",
   "pygments_lexer": "ipython3",
   "version": "3.10.12"
  }
 },
 "nbformat": 4,
 "nbformat_minor": 5
}
